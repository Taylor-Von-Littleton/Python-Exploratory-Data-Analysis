{
 "cells": [
  {
   "cell_type": "markdown",
   "metadata": {},
   "source": [
    "## Task 2: Kepler GL"
   ]
  },
  {
   "cell_type": "code",
   "execution_count": 1,
   "metadata": {},
   "outputs": [],
   "source": [
    "import pandas as pd\n",
    "import geopandas as gpd\n",
    "from keplergl import KeplerGl"
   ]
  },
  {
   "cell_type": "code",
   "execution_count": 2,
   "metadata": {},
   "outputs": [
    {
     "name": "stdout",
     "output_type": "stream",
     "text": [
      "User Guide: https://docs.kepler.gl/docs/keplergl-jupyter\n"
     ]
    },
    {
     "data": {
      "application/vnd.jupyter.widget-view+json": {
       "model_id": "1a377a1d384946c2b99a6a9f05b32e8f",
       "version_major": 2,
       "version_minor": 0
      },
      "text/plain": [
       "KeplerGl(height=600)"
      ]
     },
     "metadata": {},
     "output_type": "display_data"
    }
   ],
   "source": [
    "#Create a basemap \n",
    "m = KeplerGl(height=600, width=800)\n",
    "\n",
    "#show the map\n",
    "m"
   ]
  },
  {
   "cell_type": "code",
   "execution_count": 3,
   "metadata": {},
   "outputs": [
    {
     "data": {
      "text/html": [
       "<div>\n",
       "<style scoped>\n",
       "    .dataframe tbody tr th:only-of-type {\n",
       "        vertical-align: middle;\n",
       "    }\n",
       "\n",
       "    .dataframe tbody tr th {\n",
       "        vertical-align: top;\n",
       "    }\n",
       "\n",
       "    .dataframe thead th {\n",
       "        text-align: right;\n",
       "    }\n",
       "</style>\n",
       "<table border=\"1\" class=\"dataframe\">\n",
       "  <thead>\n",
       "    <tr style=\"text-align: right;\">\n",
       "      <th></th>\n",
       "      <th>City</th>\n",
       "      <th>Country</th>\n",
       "      <th>Latitude</th>\n",
       "      <th>Longitude</th>\n",
       "      <th>Population</th>\n",
       "    </tr>\n",
       "  </thead>\n",
       "  <tbody>\n",
       "    <tr>\n",
       "      <th>0</th>\n",
       "      <td>Shanghai</td>\n",
       "      <td>China</td>\n",
       "      <td>31.045556</td>\n",
       "      <td>121.399722</td>\n",
       "      <td>14608512</td>\n",
       "    </tr>\n",
       "    <tr>\n",
       "      <th>1</th>\n",
       "      <td>Sao paulo</td>\n",
       "      <td>Brazil</td>\n",
       "      <td>-23.473293</td>\n",
       "      <td>-46.665803</td>\n",
       "      <td>10021437</td>\n",
       "    </tr>\n",
       "    <tr>\n",
       "      <th>2</th>\n",
       "      <td>Cairo</td>\n",
       "      <td>Egypt</td>\n",
       "      <td>30.050000</td>\n",
       "      <td>31.250000</td>\n",
       "      <td>7734602</td>\n",
       "    </tr>\n",
       "    <tr>\n",
       "      <th>3</th>\n",
       "      <td>London</td>\n",
       "      <td>England</td>\n",
       "      <td>51.514125</td>\n",
       "      <td>-0.093689</td>\n",
       "      <td>7421228</td>\n",
       "    </tr>\n",
       "    <tr>\n",
       "      <th>4</th>\n",
       "      <td>Toronto</td>\n",
       "      <td>Canada</td>\n",
       "      <td>43.666667</td>\n",
       "      <td>-79.416667</td>\n",
       "      <td>4612187</td>\n",
       "    </tr>\n",
       "    <tr>\n",
       "      <th>5</th>\n",
       "      <td>Sydney</td>\n",
       "      <td>Australia</td>\n",
       "      <td>-33.861481</td>\n",
       "      <td>151.205475</td>\n",
       "      <td>4394585</td>\n",
       "    </tr>\n",
       "  </tbody>\n",
       "</table>\n",
       "</div>"
      ],
      "text/plain": [
       "        City    Country   Latitude   Longitude  Population\n",
       "0   Shanghai      China  31.045556  121.399722    14608512\n",
       "1  Sao paulo     Brazil -23.473293  -46.665803    10021437\n",
       "2      Cairo      Egypt  30.050000   31.250000     7734602\n",
       "3     London    England  51.514125   -0.093689     7421228\n",
       "4    Toronto     Canada  43.666667  -79.416667     4612187\n",
       "5     Sydney  Australia -33.861481  151.205475     4394585"
      ]
     },
     "execution_count": 3,
     "metadata": {},
     "output_type": "execute_result"
    }
   ],
   "source": [
    "# Create a Dataframe\n",
    "df = pd.DataFrame(\n",
    "    {\n",
    "        \"City\": [\"Shanghai\", \"Sao paulo\", \"Cairo\", \"London\", \"Toronto\", \"Sydney\"],\n",
    "        \"Country\": [\"China\", \"Brazil\", \"Egypt\", \"England\", \"Canada\", \"Australia\"],\n",
    "        \"Latitude\": [31.045556, -23.473293, 30.05, 51.514125, 43.666667, -33.861481],\n",
    "        \"Longitude\": [121.399722, -46.665803, 31.25, -0.093689, -79.416667, 151.205475],\n",
    "        \"Population\": [14608512, 10021437, 7734602, 7421228, 4612187, 4394585],\n",
    "    }\n",
    ")\n",
    "\n",
    "\n",
    "df"
   ]
  },
  {
   "cell_type": "code",
   "execution_count": 4,
   "metadata": {},
   "outputs": [],
   "source": [
    "m.add_data(data=df, name='cities') # Add cities to the map"
   ]
  },
  {
   "cell_type": "code",
   "execution_count": 5,
   "metadata": {},
   "outputs": [
    {
     "data": {
      "application/vnd.jupyter.widget-view+json": {
       "model_id": "1a377a1d384946c2b99a6a9f05b32e8f",
       "version_major": 2,
       "version_minor": 0
      },
      "text/plain": [
       "KeplerGl(config={'version': 'v1', 'config': {'visState': {'filters': [], 'layers': [{'id': 'baaehm', 'type': '…"
      ]
     },
     "metadata": {},
     "output_type": "display_data"
    }
   ],
   "source": [
    "m"
   ]
  },
  {
   "cell_type": "code",
   "execution_count": null,
   "metadata": {},
   "outputs": [],
   "source": []
  },
  {
   "cell_type": "markdown",
   "metadata": {},
   "source": [
    "## Task 3: Customizing Point Map"
   ]
  },
  {
   "cell_type": "code",
   "execution_count": 6,
   "metadata": {},
   "outputs": [],
   "source": [
    "import pandas as pd\n",
    "import geopandas as gpd\n",
    "from keplergl import KeplerGl\n"
   ]
  },
  {
   "cell_type": "code",
   "execution_count": 7,
   "metadata": {},
   "outputs": [
    {
     "name": "stdout",
     "output_type": "stream",
     "text": [
      "User Guide: https://docs.kepler.gl/docs/keplergl-jupyter\n"
     ]
    }
   ],
   "source": [
    "# Create A dataframe\n",
    "\n",
    "df = pd.DataFrame(\n",
    "    {\n",
    "        \"City\": [\"Shanghai\", \"Sao paulo\", \"Cairo\", \"London\", \"Toronto\", \"Sydney\"],\n",
    "        \"Country\": [\"China\", \"Brazil\", \"Egypt\", \"England\", \"Canada\", \"Australia\"],\n",
    "        \"Latitude\": [31.045556, -23.473293, 30.05, 51.514125, 43.666667, -33.861481],\n",
    "        \"Longitude\": [121.399722, -46.665803, 31.25, -0.093689, -79.416667, 151.205475],\n",
    "        \"Population\": [14608512, 10021437, 7734602, 7421228, 4612187, 4394585],\n",
    "    }\n",
    ")\n",
    "\n",
    "\n",
    "# Create a Kepler Map\n",
    "m = KeplerGl(height=600, width=800)\n",
    "\n",
    "# Add Dataframe to the map\n",
    "m.add_data(data=df, name='cities')"
   ]
  },
  {
   "cell_type": "code",
   "execution_count": 8,
   "metadata": {},
   "outputs": [
    {
     "data": {
      "application/vnd.jupyter.widget-view+json": {
       "model_id": "a64ef22141894b6c8af558426728201c",
       "version_major": 2,
       "version_minor": 0
      },
      "text/plain": [
       "KeplerGl(data={'cities': {'index': [0, 1, 2, 3, 4, 5], 'columns': ['City', 'Country', 'Latitude', 'Longitude',…"
      ]
     },
     "metadata": {},
     "output_type": "display_data"
    }
   ],
   "source": [
    "m"
   ]
  },
  {
   "cell_type": "code",
   "execution_count": null,
   "metadata": {},
   "outputs": [],
   "source": []
  },
  {
   "cell_type": "markdown",
   "metadata": {},
   "source": [
    "## Task 4: Adding Geographic Data"
   ]
  },
  {
   "cell_type": "code",
   "execution_count": 9,
   "metadata": {},
   "outputs": [],
   "source": [
    "import pandas as pd\n",
    "import geopandas as gpd\n",
    "from keplergl import KeplerGl"
   ]
  },
  {
   "cell_type": "code",
   "execution_count": 10,
   "metadata": {},
   "outputs": [
    {
     "data": {
      "text/html": [
       "<div>\n",
       "<style scoped>\n",
       "    .dataframe tbody tr th:only-of-type {\n",
       "        vertical-align: middle;\n",
       "    }\n",
       "\n",
       "    .dataframe tbody tr th {\n",
       "        vertical-align: top;\n",
       "    }\n",
       "\n",
       "    .dataframe thead th {\n",
       "        text-align: right;\n",
       "    }\n",
       "</style>\n",
       "<table border=\"1\" class=\"dataframe\">\n",
       "  <thead>\n",
       "    <tr style=\"text-align: right;\">\n",
       "      <th></th>\n",
       "      <th>anon_ticket_number</th>\n",
       "      <th>issue_datetime</th>\n",
       "      <th>anon_plate_id</th>\n",
       "      <th>violation_desc</th>\n",
       "      <th>fine</th>\n",
       "      <th>issuing_agency</th>\n",
       "      <th>lat</th>\n",
       "      <th>lon</th>\n",
       "    </tr>\n",
       "  </thead>\n",
       "  <tbody>\n",
       "    <tr>\n",
       "      <th>0</th>\n",
       "      <td>4674379</td>\n",
       "      <td>01/01/2015 00:00</td>\n",
       "      <td>934383</td>\n",
       "      <td>BLOCKNG MASS TRANSIT</td>\n",
       "      <td>101</td>\n",
       "      <td>SEPTA</td>\n",
       "      <td>39.975789</td>\n",
       "      <td>-75.163471</td>\n",
       "    </tr>\n",
       "    <tr>\n",
       "      <th>1</th>\n",
       "      <td>4707189</td>\n",
       "      <td>01/01/2015 00:00</td>\n",
       "      <td>1065037</td>\n",
       "      <td>BLOCKNG MASS TRANSIT</td>\n",
       "      <td>101</td>\n",
       "      <td>SEPTA</td>\n",
       "      <td>39.975789</td>\n",
       "      <td>-75.163471</td>\n",
       "    </tr>\n",
       "    <tr>\n",
       "      <th>2</th>\n",
       "      <td>4584526</td>\n",
       "      <td>01/01/2015 00:01</td>\n",
       "      <td>1262953</td>\n",
       "      <td>SIDEWALK   CC</td>\n",
       "      <td>76</td>\n",
       "      <td>POLICE</td>\n",
       "      <td>39.954927</td>\n",
       "      <td>-75.140262</td>\n",
       "    </tr>\n",
       "    <tr>\n",
       "      <th>3</th>\n",
       "      <td>4669046</td>\n",
       "      <td>01/01/2015 00:01</td>\n",
       "      <td>47082</td>\n",
       "      <td>SIDEWALK   CC</td>\n",
       "      <td>76</td>\n",
       "      <td>POLICE</td>\n",
       "      <td>39.954927</td>\n",
       "      <td>-75.140262</td>\n",
       "    </tr>\n",
       "    <tr>\n",
       "      <th>4</th>\n",
       "      <td>4588341</td>\n",
       "      <td>01/01/2015 00:02</td>\n",
       "      <td>1509569</td>\n",
       "      <td>SIDEWALK   CC</td>\n",
       "      <td>76</td>\n",
       "      <td>POLICE</td>\n",
       "      <td>39.954927</td>\n",
       "      <td>-75.140262</td>\n",
       "    </tr>\n",
       "  </tbody>\n",
       "</table>\n",
       "</div>"
      ],
      "text/plain": [
       "   anon_ticket_number    issue_datetime  anon_plate_id        violation_desc  \\\n",
       "0             4674379  01/01/2015 00:00         934383  BLOCKNG MASS TRANSIT   \n",
       "1             4707189  01/01/2015 00:00        1065037  BLOCKNG MASS TRANSIT   \n",
       "2             4584526  01/01/2015 00:01        1262953         SIDEWALK   CC   \n",
       "3             4669046  01/01/2015 00:01          47082         SIDEWALK   CC   \n",
       "4             4588341  01/01/2015 00:02        1509569         SIDEWALK   CC   \n",
       "\n",
       "   fine issuing_agency        lat        lon  \n",
       "0   101          SEPTA  39.975789 -75.163471  \n",
       "1   101          SEPTA  39.975789 -75.163471  \n",
       "2    76         POLICE  39.954927 -75.140262  \n",
       "3    76         POLICE  39.954927 -75.140262  \n",
       "4    76         POLICE  39.954927 -75.140262  "
      ]
     },
     "execution_count": 10,
     "metadata": {},
     "output_type": "execute_result"
    }
   ],
   "source": [
    "parking_df = pd.read_csv(\"data/parking_violations_2015.csv\")\n",
    "parking_df.head() # display the first 5 rows"
   ]
  },
  {
   "cell_type": "code",
   "execution_count": 11,
   "metadata": {},
   "outputs": [
    {
     "data": {
      "text/plain": [
       "(119910, 8)"
      ]
     },
     "execution_count": 11,
     "metadata": {},
     "output_type": "execute_result"
    }
   ],
   "source": [
    "parking_df.shape # display the number of rows and columns"
   ]
  },
  {
   "cell_type": "code",
   "execution_count": 12,
   "metadata": {},
   "outputs": [],
   "source": [
    "parking_df.dropna(subset=[\"lat\", \"lon\"], how='all', inplace=True) # drop rows with NaN values in the lat and lon columns"
   ]
  },
  {
   "cell_type": "code",
   "execution_count": 13,
   "metadata": {},
   "outputs": [
    {
     "data": {
      "text/plain": [
       "(107710, 8)"
      ]
     },
     "execution_count": 13,
     "metadata": {},
     "output_type": "execute_result"
    }
   ],
   "source": [
    "parking_df.shape"
   ]
  },
  {
   "cell_type": "code",
   "execution_count": 14,
   "metadata": {},
   "outputs": [
    {
     "data": {
      "text/html": [
       "<div>\n",
       "<style scoped>\n",
       "    .dataframe tbody tr th:only-of-type {\n",
       "        vertical-align: middle;\n",
       "    }\n",
       "\n",
       "    .dataframe tbody tr th {\n",
       "        vertical-align: top;\n",
       "    }\n",
       "\n",
       "    .dataframe thead th {\n",
       "        text-align: right;\n",
       "    }\n",
       "</style>\n",
       "<table border=\"1\" class=\"dataframe\">\n",
       "  <thead>\n",
       "    <tr style=\"text-align: right;\">\n",
       "      <th></th>\n",
       "      <th>anon_ticket_number</th>\n",
       "      <th>issue_datetime</th>\n",
       "      <th>anon_plate_id</th>\n",
       "      <th>violation_desc</th>\n",
       "      <th>fine</th>\n",
       "      <th>issuing_agency</th>\n",
       "      <th>lat</th>\n",
       "      <th>lon</th>\n",
       "      <th>geometry</th>\n",
       "    </tr>\n",
       "  </thead>\n",
       "  <tbody>\n",
       "    <tr>\n",
       "      <th>0</th>\n",
       "      <td>4674379</td>\n",
       "      <td>01/01/2015 00:00</td>\n",
       "      <td>934383</td>\n",
       "      <td>BLOCKNG MASS TRANSIT</td>\n",
       "      <td>101</td>\n",
       "      <td>SEPTA</td>\n",
       "      <td>39.975789</td>\n",
       "      <td>-75.163471</td>\n",
       "      <td>POINT (-75.16347 39.97579)</td>\n",
       "    </tr>\n",
       "    <tr>\n",
       "      <th>1</th>\n",
       "      <td>4707189</td>\n",
       "      <td>01/01/2015 00:00</td>\n",
       "      <td>1065037</td>\n",
       "      <td>BLOCKNG MASS TRANSIT</td>\n",
       "      <td>101</td>\n",
       "      <td>SEPTA</td>\n",
       "      <td>39.975789</td>\n",
       "      <td>-75.163471</td>\n",
       "      <td>POINT (-75.16347 39.97579)</td>\n",
       "    </tr>\n",
       "    <tr>\n",
       "      <th>2</th>\n",
       "      <td>4584526</td>\n",
       "      <td>01/01/2015 00:01</td>\n",
       "      <td>1262953</td>\n",
       "      <td>SIDEWALK   CC</td>\n",
       "      <td>76</td>\n",
       "      <td>POLICE</td>\n",
       "      <td>39.954927</td>\n",
       "      <td>-75.140262</td>\n",
       "      <td>POINT (-75.14026 39.95493)</td>\n",
       "    </tr>\n",
       "    <tr>\n",
       "      <th>3</th>\n",
       "      <td>4669046</td>\n",
       "      <td>01/01/2015 00:01</td>\n",
       "      <td>47082</td>\n",
       "      <td>SIDEWALK   CC</td>\n",
       "      <td>76</td>\n",
       "      <td>POLICE</td>\n",
       "      <td>39.954927</td>\n",
       "      <td>-75.140262</td>\n",
       "      <td>POINT (-75.14026 39.95493)</td>\n",
       "    </tr>\n",
       "    <tr>\n",
       "      <th>4</th>\n",
       "      <td>4588341</td>\n",
       "      <td>01/01/2015 00:02</td>\n",
       "      <td>1509569</td>\n",
       "      <td>SIDEWALK   CC</td>\n",
       "      <td>76</td>\n",
       "      <td>POLICE</td>\n",
       "      <td>39.954927</td>\n",
       "      <td>-75.140262</td>\n",
       "      <td>POINT (-75.14026 39.95493)</td>\n",
       "    </tr>\n",
       "  </tbody>\n",
       "</table>\n",
       "</div>"
      ],
      "text/plain": [
       "   anon_ticket_number    issue_datetime  anon_plate_id        violation_desc  \\\n",
       "0             4674379  01/01/2015 00:00         934383  BLOCKNG MASS TRANSIT   \n",
       "1             4707189  01/01/2015 00:00        1065037  BLOCKNG MASS TRANSIT   \n",
       "2             4584526  01/01/2015 00:01        1262953         SIDEWALK   CC   \n",
       "3             4669046  01/01/2015 00:01          47082         SIDEWALK   CC   \n",
       "4             4588341  01/01/2015 00:02        1509569         SIDEWALK   CC   \n",
       "\n",
       "   fine issuing_agency        lat        lon                    geometry  \n",
       "0   101          SEPTA  39.975789 -75.163471  POINT (-75.16347 39.97579)  \n",
       "1   101          SEPTA  39.975789 -75.163471  POINT (-75.16347 39.97579)  \n",
       "2    76         POLICE  39.954927 -75.140262  POINT (-75.14026 39.95493)  \n",
       "3    76         POLICE  39.954927 -75.140262  POINT (-75.14026 39.95493)  \n",
       "4    76         POLICE  39.954927 -75.140262  POINT (-75.14026 39.95493)  "
      ]
     },
     "execution_count": 14,
     "metadata": {},
     "output_type": "execute_result"
    }
   ],
   "source": [
    "# create a GeoDataFrame from the dataframe and the lat and lon columns using the points_from_xy function\n",
    "gdf = gpd.GeoDataFrame(parking_df, geometry=gpd.points_from_xy(parking_df.lon, parking_df.lat), crs=\"EPSG:4326\") \n",
    "gdf.head()"
   ]
  },
  {
   "cell_type": "code",
   "execution_count": 16,
   "metadata": {},
   "outputs": [],
   "source": [
    "gdf.to_file(\"data/output/parking_2015.geojson\",  driver='GeoJSON') # save the GeoDataFrame to a geojson file\n",
    "\n"
   ]
  },
  {
   "cell_type": "code",
   "execution_count": 17,
   "metadata": {},
   "outputs": [
    {
     "name": "stdout",
     "output_type": "stream",
     "text": [
      "User Guide: https://docs.kepler.gl/docs/keplergl-jupyter\n"
     ]
    },
    {
     "data": {
      "application/vnd.jupyter.widget-view+json": {
       "model_id": "72c4fe00309e496093754c32ab60d2c8",
       "version_major": 2,
       "version_minor": 0
      },
      "text/plain": [
       "KeplerGl(data={'parking_points': {'index': [0, 1, 2, 3, 4, 5, 7, 8, 10, 12, 13, 14, 15, 17, 20, 21, 22, 23, 24…"
      ]
     },
     "metadata": {},
     "output_type": "display_data"
    }
   ],
   "source": [
    "m = KeplerGl(height=900) \n",
    "m.add_data(data=gdf, name='parking_points') # add the GeoDataFrame to the map\n",
    "m"
   ]
  },
  {
   "cell_type": "code",
   "execution_count": null,
   "metadata": {},
   "outputs": [],
   "source": []
  },
  {
   "cell_type": "code",
   "execution_count": null,
   "metadata": {},
   "outputs": [],
   "source": []
  },
  {
   "cell_type": "code",
   "execution_count": null,
   "metadata": {},
   "outputs": [],
   "source": []
  },
  {
   "cell_type": "markdown",
   "metadata": {},
   "source": [
    "## Task 5: 3D Hexagon "
   ]
  },
  {
   "cell_type": "code",
   "execution_count": 20,
   "metadata": {},
   "outputs": [],
   "source": [
    "import geopandas as gpd\n",
    "from keplergl import KeplerGl"
   ]
  },
  {
   "cell_type": "code",
   "execution_count": 19,
   "metadata": {},
   "outputs": [
    {
     "data": {
      "text/html": [
       "<div>\n",
       "<style scoped>\n",
       "    .dataframe tbody tr th:only-of-type {\n",
       "        vertical-align: middle;\n",
       "    }\n",
       "\n",
       "    .dataframe tbody tr th {\n",
       "        vertical-align: top;\n",
       "    }\n",
       "\n",
       "    .dataframe thead th {\n",
       "        text-align: right;\n",
       "    }\n",
       "</style>\n",
       "<table border=\"1\" class=\"dataframe\">\n",
       "  <thead>\n",
       "    <tr style=\"text-align: right;\">\n",
       "      <th></th>\n",
       "      <th>anon_ticket_number</th>\n",
       "      <th>issue_datetime</th>\n",
       "      <th>anon_plate_id</th>\n",
       "      <th>violation_desc</th>\n",
       "      <th>fine</th>\n",
       "      <th>issuing_agency</th>\n",
       "      <th>lat</th>\n",
       "      <th>lon</th>\n",
       "      <th>geometry</th>\n",
       "    </tr>\n",
       "  </thead>\n",
       "  <tbody>\n",
       "    <tr>\n",
       "      <th>0</th>\n",
       "      <td>4674379</td>\n",
       "      <td>01/01/2015 00:00</td>\n",
       "      <td>934383</td>\n",
       "      <td>BLOCKNG MASS TRANSIT</td>\n",
       "      <td>101</td>\n",
       "      <td>SEPTA</td>\n",
       "      <td>39.975789</td>\n",
       "      <td>-75.163471</td>\n",
       "      <td>POINT (-75.16347 39.97579)</td>\n",
       "    </tr>\n",
       "    <tr>\n",
       "      <th>1</th>\n",
       "      <td>4707189</td>\n",
       "      <td>01/01/2015 00:00</td>\n",
       "      <td>1065037</td>\n",
       "      <td>BLOCKNG MASS TRANSIT</td>\n",
       "      <td>101</td>\n",
       "      <td>SEPTA</td>\n",
       "      <td>39.975789</td>\n",
       "      <td>-75.163471</td>\n",
       "      <td>POINT (-75.16347 39.97579)</td>\n",
       "    </tr>\n",
       "    <tr>\n",
       "      <th>2</th>\n",
       "      <td>4584526</td>\n",
       "      <td>01/01/2015 00:01</td>\n",
       "      <td>1262953</td>\n",
       "      <td>SIDEWALK   CC</td>\n",
       "      <td>76</td>\n",
       "      <td>POLICE</td>\n",
       "      <td>39.954927</td>\n",
       "      <td>-75.140262</td>\n",
       "      <td>POINT (-75.14026 39.95493)</td>\n",
       "    </tr>\n",
       "    <tr>\n",
       "      <th>3</th>\n",
       "      <td>4669046</td>\n",
       "      <td>01/01/2015 00:01</td>\n",
       "      <td>47082</td>\n",
       "      <td>SIDEWALK   CC</td>\n",
       "      <td>76</td>\n",
       "      <td>POLICE</td>\n",
       "      <td>39.954927</td>\n",
       "      <td>-75.140262</td>\n",
       "      <td>POINT (-75.14026 39.95493)</td>\n",
       "    </tr>\n",
       "    <tr>\n",
       "      <th>4</th>\n",
       "      <td>4588341</td>\n",
       "      <td>01/01/2015 00:02</td>\n",
       "      <td>1509569</td>\n",
       "      <td>SIDEWALK   CC</td>\n",
       "      <td>76</td>\n",
       "      <td>POLICE</td>\n",
       "      <td>39.954927</td>\n",
       "      <td>-75.140262</td>\n",
       "      <td>POINT (-75.14026 39.95493)</td>\n",
       "    </tr>\n",
       "  </tbody>\n",
       "</table>\n",
       "</div>"
      ],
      "text/plain": [
       "   anon_ticket_number    issue_datetime  anon_plate_id        violation_desc  \\\n",
       "0             4674379  01/01/2015 00:00         934383  BLOCKNG MASS TRANSIT   \n",
       "1             4707189  01/01/2015 00:00        1065037  BLOCKNG MASS TRANSIT   \n",
       "2             4584526  01/01/2015 00:01        1262953         SIDEWALK   CC   \n",
       "3             4669046  01/01/2015 00:01          47082         SIDEWALK   CC   \n",
       "4             4588341  01/01/2015 00:02        1509569         SIDEWALK   CC   \n",
       "\n",
       "   fine issuing_agency        lat        lon                    geometry  \n",
       "0   101          SEPTA  39.975789 -75.163471  POINT (-75.16347 39.97579)  \n",
       "1   101          SEPTA  39.975789 -75.163471  POINT (-75.16347 39.97579)  \n",
       "2    76         POLICE  39.954927 -75.140262  POINT (-75.14026 39.95493)  \n",
       "3    76         POLICE  39.954927 -75.140262  POINT (-75.14026 39.95493)  \n",
       "4    76         POLICE  39.954927 -75.140262  POINT (-75.14026 39.95493)  "
      ]
     },
     "execution_count": 19,
     "metadata": {},
     "output_type": "execute_result"
    }
   ],
   "source": [
    "gdf = gpd.read_file(\"data/output/parking_2015.geojson\")\n",
    "gdf.head()"
   ]
  },
  {
   "cell_type": "code",
   "execution_count": 21,
   "metadata": {},
   "outputs": [
    {
     "name": "stdout",
     "output_type": "stream",
     "text": [
      "User Guide: https://docs.kepler.gl/docs/keplergl-jupyter\n"
     ]
    },
    {
     "data": {
      "application/vnd.jupyter.widget-view+json": {
       "model_id": "f4f497cd14e343e1913661f78ad0c289",
       "version_major": 2,
       "version_minor": 0
      },
      "text/plain": [
       "KeplerGl(data={'3dHexagon': {'index': [0, 1, 2, 3, 4, 5, 6, 7, 8, 9, 10, 11, 12, 13, 14, 15, 16, 17, 18, 19, 2…"
      ]
     },
     "metadata": {},
     "output_type": "display_data"
    }
   ],
   "source": [
    "m = KeplerGl(height=900)\n",
    "m.add_data(data=gdf, name='3dHexagon')\n",
    "m"
   ]
  },
  {
   "cell_type": "code",
   "execution_count": null,
   "metadata": {},
   "outputs": [],
   "source": []
  },
  {
   "cell_type": "markdown",
   "metadata": {},
   "source": [
    "## Task 6: Animation"
   ]
  },
  {
   "cell_type": "code",
   "execution_count": 22,
   "metadata": {},
   "outputs": [],
   "source": [
    "import geopandas as gpd\n",
    "import pandas as pd\n",
    "from keplergl import KeplerGl"
   ]
  },
  {
   "cell_type": "code",
   "execution_count": 23,
   "metadata": {},
   "outputs": [
    {
     "data": {
      "text/html": [
       "<div>\n",
       "<style scoped>\n",
       "    .dataframe tbody tr th:only-of-type {\n",
       "        vertical-align: middle;\n",
       "    }\n",
       "\n",
       "    .dataframe tbody tr th {\n",
       "        vertical-align: top;\n",
       "    }\n",
       "\n",
       "    .dataframe thead th {\n",
       "        text-align: right;\n",
       "    }\n",
       "</style>\n",
       "<table border=\"1\" class=\"dataframe\">\n",
       "  <thead>\n",
       "    <tr style=\"text-align: right;\">\n",
       "      <th></th>\n",
       "      <th>anon_ticket_number</th>\n",
       "      <th>issue_datetime</th>\n",
       "      <th>anon_plate_id</th>\n",
       "      <th>violation_desc</th>\n",
       "      <th>fine</th>\n",
       "      <th>issuing_agency</th>\n",
       "      <th>lat</th>\n",
       "      <th>lon</th>\n",
       "      <th>geometry</th>\n",
       "    </tr>\n",
       "  </thead>\n",
       "  <tbody>\n",
       "    <tr>\n",
       "      <th>0</th>\n",
       "      <td>4674379</td>\n",
       "      <td>01/01/2015 00:00</td>\n",
       "      <td>934383</td>\n",
       "      <td>BLOCKNG MASS TRANSIT</td>\n",
       "      <td>101</td>\n",
       "      <td>SEPTA</td>\n",
       "      <td>39.975789</td>\n",
       "      <td>-75.163471</td>\n",
       "      <td>POINT (-75.16347 39.97579)</td>\n",
       "    </tr>\n",
       "    <tr>\n",
       "      <th>1</th>\n",
       "      <td>4707189</td>\n",
       "      <td>01/01/2015 00:00</td>\n",
       "      <td>1065037</td>\n",
       "      <td>BLOCKNG MASS TRANSIT</td>\n",
       "      <td>101</td>\n",
       "      <td>SEPTA</td>\n",
       "      <td>39.975789</td>\n",
       "      <td>-75.163471</td>\n",
       "      <td>POINT (-75.16347 39.97579)</td>\n",
       "    </tr>\n",
       "    <tr>\n",
       "      <th>2</th>\n",
       "      <td>4584526</td>\n",
       "      <td>01/01/2015 00:01</td>\n",
       "      <td>1262953</td>\n",
       "      <td>SIDEWALK   CC</td>\n",
       "      <td>76</td>\n",
       "      <td>POLICE</td>\n",
       "      <td>39.954927</td>\n",
       "      <td>-75.140262</td>\n",
       "      <td>POINT (-75.14026 39.95493)</td>\n",
       "    </tr>\n",
       "    <tr>\n",
       "      <th>3</th>\n",
       "      <td>4669046</td>\n",
       "      <td>01/01/2015 00:01</td>\n",
       "      <td>47082</td>\n",
       "      <td>SIDEWALK   CC</td>\n",
       "      <td>76</td>\n",
       "      <td>POLICE</td>\n",
       "      <td>39.954927</td>\n",
       "      <td>-75.140262</td>\n",
       "      <td>POINT (-75.14026 39.95493)</td>\n",
       "    </tr>\n",
       "    <tr>\n",
       "      <th>4</th>\n",
       "      <td>4588341</td>\n",
       "      <td>01/01/2015 00:02</td>\n",
       "      <td>1509569</td>\n",
       "      <td>SIDEWALK   CC</td>\n",
       "      <td>76</td>\n",
       "      <td>POLICE</td>\n",
       "      <td>39.954927</td>\n",
       "      <td>-75.140262</td>\n",
       "      <td>POINT (-75.14026 39.95493)</td>\n",
       "    </tr>\n",
       "  </tbody>\n",
       "</table>\n",
       "</div>"
      ],
      "text/plain": [
       "   anon_ticket_number    issue_datetime  anon_plate_id        violation_desc  \\\n",
       "0             4674379  01/01/2015 00:00         934383  BLOCKNG MASS TRANSIT   \n",
       "1             4707189  01/01/2015 00:00        1065037  BLOCKNG MASS TRANSIT   \n",
       "2             4584526  01/01/2015 00:01        1262953         SIDEWALK   CC   \n",
       "3             4669046  01/01/2015 00:01          47082         SIDEWALK   CC   \n",
       "4             4588341  01/01/2015 00:02        1509569         SIDEWALK   CC   \n",
       "\n",
       "   fine issuing_agency        lat        lon                    geometry  \n",
       "0   101          SEPTA  39.975789 -75.163471  POINT (-75.16347 39.97579)  \n",
       "1   101          SEPTA  39.975789 -75.163471  POINT (-75.16347 39.97579)  \n",
       "2    76         POLICE  39.954927 -75.140262  POINT (-75.14026 39.95493)  \n",
       "3    76         POLICE  39.954927 -75.140262  POINT (-75.14026 39.95493)  \n",
       "4    76         POLICE  39.954927 -75.140262  POINT (-75.14026 39.95493)  "
      ]
     },
     "execution_count": 23,
     "metadata": {},
     "output_type": "execute_result"
    }
   ],
   "source": [
    "df = gpd.read_file(\"data/output/parking_2015.geojson\", parse_dates=True) # read the geojson file\n",
    "gdf.head()"
   ]
  },
  {
   "cell_type": "code",
   "execution_count": 24,
   "metadata": {},
   "outputs": [],
   "source": [
    "gdf[\"issue_datetime\"] = pd.to_datetime(gdf[\"issue_datetime\"], dayfirst=True) # convert the issue_datetime column to a datetime object\n"
   ]
  },
  {
   "cell_type": "code",
   "execution_count": 25,
   "metadata": {},
   "outputs": [
    {
     "data": {
      "text/html": [
       "<div>\n",
       "<style scoped>\n",
       "    .dataframe tbody tr th:only-of-type {\n",
       "        vertical-align: middle;\n",
       "    }\n",
       "\n",
       "    .dataframe tbody tr th {\n",
       "        vertical-align: top;\n",
       "    }\n",
       "\n",
       "    .dataframe thead th {\n",
       "        text-align: right;\n",
       "    }\n",
       "</style>\n",
       "<table border=\"1\" class=\"dataframe\">\n",
       "  <thead>\n",
       "    <tr style=\"text-align: right;\">\n",
       "      <th></th>\n",
       "      <th>anon_ticket_number</th>\n",
       "      <th>issue_datetime</th>\n",
       "      <th>anon_plate_id</th>\n",
       "      <th>violation_desc</th>\n",
       "      <th>fine</th>\n",
       "      <th>issuing_agency</th>\n",
       "      <th>lat</th>\n",
       "      <th>lon</th>\n",
       "      <th>geometry</th>\n",
       "    </tr>\n",
       "  </thead>\n",
       "  <tbody>\n",
       "    <tr>\n",
       "      <th>11090</th>\n",
       "      <td>4759774</td>\n",
       "      <td>2015-01-05 17:15:00</td>\n",
       "      <td>787573</td>\n",
       "      <td>METER EXPIRED CC</td>\n",
       "      <td>36</td>\n",
       "      <td>PPA</td>\n",
       "      <td>39.944543</td>\n",
       "      <td>-75.172694</td>\n",
       "      <td>POINT (-75.17269 39.94454)</td>\n",
       "    </tr>\n",
       "    <tr>\n",
       "      <th>12927</th>\n",
       "      <td>4704527</td>\n",
       "      <td>2015-01-06 12:23:00</td>\n",
       "      <td>702840</td>\n",
       "      <td>METER EXPIRED</td>\n",
       "      <td>26</td>\n",
       "      <td>PPA</td>\n",
       "      <td>39.926228</td>\n",
       "      <td>-75.167750</td>\n",
       "      <td>POINT (-75.16775 39.92623)</td>\n",
       "    </tr>\n",
       "    <tr>\n",
       "      <th>90026</th>\n",
       "      <td>4703443</td>\n",
       "      <td>2015-01-28 00:00:00</td>\n",
       "      <td>1289611</td>\n",
       "      <td>METER EXPIRED CC</td>\n",
       "      <td>36</td>\n",
       "      <td>PPA</td>\n",
       "      <td>39.947719</td>\n",
       "      <td>-75.155945</td>\n",
       "      <td>POINT (-75.15594 39.94772)</td>\n",
       "    </tr>\n",
       "    <tr>\n",
       "      <th>54362</th>\n",
       "      <td>4523016</td>\n",
       "      <td>2015-01-17 09:44:00</td>\n",
       "      <td>1448828</td>\n",
       "      <td>METER EXPIRED CC</td>\n",
       "      <td>36</td>\n",
       "      <td>PPA</td>\n",
       "      <td>39.962379</td>\n",
       "      <td>-75.172224</td>\n",
       "      <td>POINT (-75.17222 39.96238)</td>\n",
       "    </tr>\n",
       "    <tr>\n",
       "      <th>76785</th>\n",
       "      <td>4561323</td>\n",
       "      <td>2015-01-23 09:12:00</td>\n",
       "      <td>1553449</td>\n",
       "      <td>PARKING PROHBITED CC</td>\n",
       "      <td>51</td>\n",
       "      <td>PPA</td>\n",
       "      <td>39.954207</td>\n",
       "      <td>-75.161522</td>\n",
       "      <td>POINT (-75.16152 39.95421)</td>\n",
       "    </tr>\n",
       "    <tr>\n",
       "      <th>83393</th>\n",
       "      <td>4654041</td>\n",
       "      <td>2015-01-24 17:43:00</td>\n",
       "      <td>500292</td>\n",
       "      <td>PARKING PROHBITED</td>\n",
       "      <td>41</td>\n",
       "      <td>POLICE</td>\n",
       "      <td>39.978578</td>\n",
       "      <td>-75.225907</td>\n",
       "      <td>POINT (-75.22591 39.97858)</td>\n",
       "    </tr>\n",
       "    <tr>\n",
       "      <th>32265</th>\n",
       "      <td>4531553</td>\n",
       "      <td>2015-01-12 10:59:00</td>\n",
       "      <td>1699706</td>\n",
       "      <td>STOPPING PROHIBITED</td>\n",
       "      <td>51</td>\n",
       "      <td>PPA</td>\n",
       "      <td>39.961157</td>\n",
       "      <td>-75.143334</td>\n",
       "      <td>POINT (-75.14333 39.96116)</td>\n",
       "    </tr>\n",
       "    <tr>\n",
       "      <th>8751</th>\n",
       "      <td>4671187</td>\n",
       "      <td>2015-01-05 12:00:00</td>\n",
       "      <td>1252553</td>\n",
       "      <td>METER EXPIRED</td>\n",
       "      <td>26</td>\n",
       "      <td>PPA</td>\n",
       "      <td>39.961575</td>\n",
       "      <td>-75.240842</td>\n",
       "      <td>POINT (-75.24084 39.96157)</td>\n",
       "    </tr>\n",
       "    <tr>\n",
       "      <th>67379</th>\n",
       "      <td>4787297</td>\n",
       "      <td>2015-01-21 07:19:00</td>\n",
       "      <td>996376</td>\n",
       "      <td>METER EXPIRED</td>\n",
       "      <td>26</td>\n",
       "      <td>PPA</td>\n",
       "      <td>39.960616</td>\n",
       "      <td>-75.141956</td>\n",
       "      <td>POINT (-75.14196 39.96062)</td>\n",
       "    </tr>\n",
       "    <tr>\n",
       "      <th>29302</th>\n",
       "      <td>4555002</td>\n",
       "      <td>2015-01-10 17:35:00</td>\n",
       "      <td>204838</td>\n",
       "      <td>HP RESERVED SPACE</td>\n",
       "      <td>301</td>\n",
       "      <td>PPA</td>\n",
       "      <td>39.947416</td>\n",
       "      <td>-75.166411</td>\n",
       "      <td>POINT (-75.16641 39.94742)</td>\n",
       "    </tr>\n",
       "  </tbody>\n",
       "</table>\n",
       "</div>"
      ],
      "text/plain": [
       "       anon_ticket_number      issue_datetime  anon_plate_id  \\\n",
       "11090             4759774 2015-01-05 17:15:00         787573   \n",
       "12927             4704527 2015-01-06 12:23:00         702840   \n",
       "90026             4703443 2015-01-28 00:00:00        1289611   \n",
       "54362             4523016 2015-01-17 09:44:00        1448828   \n",
       "76785             4561323 2015-01-23 09:12:00        1553449   \n",
       "83393             4654041 2015-01-24 17:43:00         500292   \n",
       "32265             4531553 2015-01-12 10:59:00        1699706   \n",
       "8751              4671187 2015-01-05 12:00:00        1252553   \n",
       "67379             4787297 2015-01-21 07:19:00         996376   \n",
       "29302             4555002 2015-01-10 17:35:00         204838   \n",
       "\n",
       "             violation_desc  fine issuing_agency        lat        lon  \\\n",
       "11090      METER EXPIRED CC    36            PPA  39.944543 -75.172694   \n",
       "12927         METER EXPIRED    26            PPA  39.926228 -75.167750   \n",
       "90026      METER EXPIRED CC    36            PPA  39.947719 -75.155945   \n",
       "54362      METER EXPIRED CC    36            PPA  39.962379 -75.172224   \n",
       "76785  PARKING PROHBITED CC    51            PPA  39.954207 -75.161522   \n",
       "83393     PARKING PROHBITED    41         POLICE  39.978578 -75.225907   \n",
       "32265   STOPPING PROHIBITED    51            PPA  39.961157 -75.143334   \n",
       "8751          METER EXPIRED    26            PPA  39.961575 -75.240842   \n",
       "67379         METER EXPIRED    26            PPA  39.960616 -75.141956   \n",
       "29302     HP RESERVED SPACE   301            PPA  39.947416 -75.166411   \n",
       "\n",
       "                         geometry  \n",
       "11090  POINT (-75.17269 39.94454)  \n",
       "12927  POINT (-75.16775 39.92623)  \n",
       "90026  POINT (-75.15594 39.94772)  \n",
       "54362  POINT (-75.17222 39.96238)  \n",
       "76785  POINT (-75.16152 39.95421)  \n",
       "83393  POINT (-75.22591 39.97858)  \n",
       "32265  POINT (-75.14333 39.96116)  \n",
       "8751   POINT (-75.24084 39.96157)  \n",
       "67379  POINT (-75.14196 39.96062)  \n",
       "29302  POINT (-75.16641 39.94742)  "
      ]
     },
     "execution_count": 25,
     "metadata": {},
     "output_type": "execute_result"
    }
   ],
   "source": [
    "gdf.sample(10) # display the first 10 rows\n",
    "#difference between sample and head is that sample returns a dataframe and head returns a series"
   ]
  },
  {
   "cell_type": "code",
   "execution_count": 26,
   "metadata": {},
   "outputs": [
    {
     "name": "stdout",
     "output_type": "stream",
     "text": [
      "User Guide: https://docs.kepler.gl/docs/keplergl-jupyter\n"
     ]
    },
    {
     "data": {
      "application/vnd.jupyter.widget-view+json": {
       "model_id": "cffb4cd9ff1f495787190c2dd2f4100b",
       "version_major": 2,
       "version_minor": 0
      },
      "text/plain": [
       "KeplerGl(data={'animation': {'index': [0, 1, 2, 3, 4, 5, 6, 7, 8, 9, 10, 11, 12, 13, 14, 15, 16, 17, 18, 19, 2…"
      ]
     },
     "metadata": {},
     "output_type": "display_data"
    }
   ],
   "source": [
    "m = KeplerGl(height=900)\n",
    "m.add_data(data=gdf, name='animation')\n",
    "m"
   ]
  },
  {
   "cell_type": "code",
   "execution_count": null,
   "metadata": {},
   "outputs": [],
   "source": []
  },
  {
   "cell_type": "markdown",
   "metadata": {},
   "source": [
    "## Task 7: Choropleth Map"
   ]
  },
  {
   "cell_type": "code",
   "execution_count": 2,
   "metadata": {},
   "outputs": [],
   "source": [
    "import geopandas as gpd\n",
    "from keplergl import KeplerGl"
   ]
  },
  {
   "cell_type": "code",
   "execution_count": 4,
   "metadata": {},
   "outputs": [
    {
     "data": {
      "text/html": [
       "<div>\n",
       "<style scoped>\n",
       "    .dataframe tbody tr th:only-of-type {\n",
       "        vertical-align: middle;\n",
       "    }\n",
       "\n",
       "    .dataframe tbody tr th {\n",
       "        vertical-align: top;\n",
       "    }\n",
       "\n",
       "    .dataframe thead th {\n",
       "        text-align: right;\n",
       "    }\n",
       "</style>\n",
       "<table border=\"1\" class=\"dataframe\">\n",
       "  <thead>\n",
       "    <tr style=\"text-align: right;\">\n",
       "      <th></th>\n",
       "      <th>NAME</th>\n",
       "      <th>LISTNAME</th>\n",
       "      <th>MAPNAME</th>\n",
       "      <th>Shape_Leng</th>\n",
       "      <th>Shape_Area</th>\n",
       "      <th>NUMPOINTS</th>\n",
       "      <th>geometry</th>\n",
       "    </tr>\n",
       "  </thead>\n",
       "  <tbody>\n",
       "    <tr>\n",
       "      <th>0</th>\n",
       "      <td>BRIDESBURG</td>\n",
       "      <td>Bridesburg</td>\n",
       "      <td>Bridesburg</td>\n",
       "      <td>27814.546521</td>\n",
       "      <td>4.458626e+07</td>\n",
       "      <td>149.0</td>\n",
       "      <td>MULTIPOLYGON (((2719789.837 256235.538, 271981...</td>\n",
       "    </tr>\n",
       "    <tr>\n",
       "      <th>1</th>\n",
       "      <td>BUSTLETON</td>\n",
       "      <td>Bustleton</td>\n",
       "      <td>Bustleton</td>\n",
       "      <td>48868.458365</td>\n",
       "      <td>1.140504e+08</td>\n",
       "      <td>228.0</td>\n",
       "      <td>MULTIPOLYGON (((2733378.171 289259.945, 273281...</td>\n",
       "    </tr>\n",
       "    <tr>\n",
       "      <th>2</th>\n",
       "      <td>CEDARBROOK</td>\n",
       "      <td>Cedarbrook</td>\n",
       "      <td>Cedarbrook</td>\n",
       "      <td>20021.415802</td>\n",
       "      <td>2.487174e+07</td>\n",
       "      <td>129.0</td>\n",
       "      <td>MULTIPOLYGON (((2685267.950 279747.336, 268527...</td>\n",
       "    </tr>\n",
       "    <tr>\n",
       "      <th>3</th>\n",
       "      <td>CHESTNUT_HILL</td>\n",
       "      <td>Chestnut Hill</td>\n",
       "      <td>Chestnut Hill</td>\n",
       "      <td>56394.297195</td>\n",
       "      <td>7.966498e+07</td>\n",
       "      <td>7783.0</td>\n",
       "      <td>MULTIPOLYGON (((2678490.151 284400.400, 267851...</td>\n",
       "    </tr>\n",
       "    <tr>\n",
       "      <th>4</th>\n",
       "      <td>EAST_FALLS</td>\n",
       "      <td>East Falls</td>\n",
       "      <td>East Falls</td>\n",
       "      <td>27400.776417</td>\n",
       "      <td>4.057689e+07</td>\n",
       "      <td>3715.0</td>\n",
       "      <td>MULTIPOLYGON (((2686769.727 263625.367, 268692...</td>\n",
       "    </tr>\n",
       "  </tbody>\n",
       "</table>\n",
       "</div>"
      ],
      "text/plain": [
       "            NAME       LISTNAME        MAPNAME    Shape_Leng    Shape_Area  \\\n",
       "0     BRIDESBURG     Bridesburg     Bridesburg  27814.546521  4.458626e+07   \n",
       "1      BUSTLETON      Bustleton      Bustleton  48868.458365  1.140504e+08   \n",
       "2     CEDARBROOK     Cedarbrook     Cedarbrook  20021.415802  2.487174e+07   \n",
       "3  CHESTNUT_HILL  Chestnut Hill  Chestnut Hill  56394.297195  7.966498e+07   \n",
       "4     EAST_FALLS     East Falls     East Falls  27400.776417  4.057689e+07   \n",
       "\n",
       "   NUMPOINTS                                           geometry  \n",
       "0      149.0  MULTIPOLYGON (((2719789.837 256235.538, 271981...  \n",
       "1      228.0  MULTIPOLYGON (((2733378.171 289259.945, 273281...  \n",
       "2      129.0  MULTIPOLYGON (((2685267.950 279747.336, 268527...  \n",
       "3     7783.0  MULTIPOLYGON (((2678490.151 284400.400, 267851...  \n",
       "4     3715.0  MULTIPOLYGON (((2686769.727 263625.367, 268692...  "
      ]
     },
     "execution_count": 4,
     "metadata": {},
     "output_type": "execute_result"
    }
   ],
   "source": [
    "neighborhoods = gpd.read_file(\"data/neighbrhoods.geojson\") # read the geojson file\n",
    "neighborhoods.head()"
   ]
  },
  {
   "cell_type": "code",
   "execution_count": 5,
   "metadata": {},
   "outputs": [
    {
     "data": {
      "text/plain": [
       "<Projected CRS: EPSG:2272>\n",
       "Name: NAD83 / Pennsylvania South (ftUS)\n",
       "Axis Info [cartesian]:\n",
       "- X[east]: Easting (US survey foot)\n",
       "- Y[north]: Northing (US survey foot)\n",
       "Area of Use:\n",
       "- name: United States (USA) - Pennsylvania - counties of Adams; Allegheny; Armstrong; Beaver; Bedford; Berks; Blair; Bucks; Butler; Cambria; Chester; Cumberland; Dauphin; Delaware; Fayette; Franklin; Fulton; Greene; Huntingdon; Indiana; Juniata; Lancaster; Lawrence; Lebanon; Lehigh; Mifflin; Montgomery; Northampton; Perry; Philadelphia; Schuylkill; Snyder; Somerset; Washington; Westmoreland; York.\n",
       "- bounds: (-80.53, 39.71, -74.72, 41.18)\n",
       "Coordinate Operation:\n",
       "- name: SPCS83 Pennsylvania South zone (US Survey feet)\n",
       "- method: Lambert Conic Conformal (2SP)\n",
       "Datum: North American Datum 1983\n",
       "- Ellipsoid: GRS 1980\n",
       "- Prime Meridian: Greenwich"
      ]
     },
     "execution_count": 5,
     "metadata": {},
     "output_type": "execute_result"
    }
   ],
   "source": [
    "neighborhoods.crs # display the coordinate reference system"
   ]
  },
  {
   "cell_type": "code",
   "execution_count": 6,
   "metadata": {},
   "outputs": [],
   "source": [
    "neighborhoods = neighborhoods.to_crs(\"EPSG:4326\") #``"
   ]
  },
  {
   "cell_type": "code",
   "execution_count": 7,
   "metadata": {},
   "outputs": [
    {
     "name": "stdout",
     "output_type": "stream",
     "text": [
      "User Guide: https://docs.kepler.gl/docs/keplergl-jupyter\n"
     ]
    },
    {
     "data": {
      "application/vnd.jupyter.widget-view+json": {
       "model_id": "c58eb4e90f954291a490db5c6d5fd66e",
       "version_major": 2,
       "version_minor": 0
      },
      "text/plain": [
       "KeplerGl(data={'choropleth_map': {'index': [0, 1, 2, 3, 4, 5, 6, 7, 8, 9, 10, 11, 12, 13, 14, 15, 16, 17, 18, …"
      ]
     },
     "metadata": {},
     "output_type": "display_data"
    }
   ],
   "source": [
    "m = KeplerGl(height=900)\n",
    "m.add_data(data=neighborhoods, name='choropleth_map') \n",
    "m"
   ]
  },
  {
   "cell_type": "markdown",
   "metadata": {},
   "source": [
    "## Task 8: Spatial Join Preprocessing"
   ]
  },
  {
   "cell_type": "code",
   "execution_count": 8,
   "metadata": {},
   "outputs": [],
   "source": [
    "import pandas as pd\n",
    "import geopandas as gpd\n",
    "from keplergl import KeplerGl"
   ]
  },
  {
   "cell_type": "code",
   "execution_count": 9,
   "metadata": {},
   "outputs": [
    {
     "data": {
      "text/html": [
       "<div>\n",
       "<style scoped>\n",
       "    .dataframe tbody tr th:only-of-type {\n",
       "        vertical-align: middle;\n",
       "    }\n",
       "\n",
       "    .dataframe tbody tr th {\n",
       "        vertical-align: top;\n",
       "    }\n",
       "\n",
       "    .dataframe thead th {\n",
       "        text-align: right;\n",
       "    }\n",
       "</style>\n",
       "<table border=\"1\" class=\"dataframe\">\n",
       "  <thead>\n",
       "    <tr style=\"text-align: right;\">\n",
       "      <th></th>\n",
       "      <th>anon_ticket_number</th>\n",
       "      <th>issue_datetime</th>\n",
       "      <th>anon_plate_id</th>\n",
       "      <th>violation_desc</th>\n",
       "      <th>fine</th>\n",
       "      <th>issuing_agency</th>\n",
       "      <th>lat</th>\n",
       "      <th>lon</th>\n",
       "      <th>geometry</th>\n",
       "    </tr>\n",
       "  </thead>\n",
       "  <tbody>\n",
       "    <tr>\n",
       "      <th>0</th>\n",
       "      <td>4674379</td>\n",
       "      <td>01/01/2015 00:00</td>\n",
       "      <td>934383</td>\n",
       "      <td>BLOCKNG MASS TRANSIT</td>\n",
       "      <td>101</td>\n",
       "      <td>SEPTA</td>\n",
       "      <td>39.975789</td>\n",
       "      <td>-75.163471</td>\n",
       "      <td>POINT (-75.16347 39.97579)</td>\n",
       "    </tr>\n",
       "    <tr>\n",
       "      <th>1</th>\n",
       "      <td>4707189</td>\n",
       "      <td>01/01/2015 00:00</td>\n",
       "      <td>1065037</td>\n",
       "      <td>BLOCKNG MASS TRANSIT</td>\n",
       "      <td>101</td>\n",
       "      <td>SEPTA</td>\n",
       "      <td>39.975789</td>\n",
       "      <td>-75.163471</td>\n",
       "      <td>POINT (-75.16347 39.97579)</td>\n",
       "    </tr>\n",
       "    <tr>\n",
       "      <th>2</th>\n",
       "      <td>4584526</td>\n",
       "      <td>01/01/2015 00:01</td>\n",
       "      <td>1262953</td>\n",
       "      <td>SIDEWALK   CC</td>\n",
       "      <td>76</td>\n",
       "      <td>POLICE</td>\n",
       "      <td>39.954927</td>\n",
       "      <td>-75.140262</td>\n",
       "      <td>POINT (-75.14026 39.95493)</td>\n",
       "    </tr>\n",
       "    <tr>\n",
       "      <th>3</th>\n",
       "      <td>4669046</td>\n",
       "      <td>01/01/2015 00:01</td>\n",
       "      <td>47082</td>\n",
       "      <td>SIDEWALK   CC</td>\n",
       "      <td>76</td>\n",
       "      <td>POLICE</td>\n",
       "      <td>39.954927</td>\n",
       "      <td>-75.140262</td>\n",
       "      <td>POINT (-75.14026 39.95493)</td>\n",
       "    </tr>\n",
       "    <tr>\n",
       "      <th>4</th>\n",
       "      <td>4588341</td>\n",
       "      <td>01/01/2015 00:02</td>\n",
       "      <td>1509569</td>\n",
       "      <td>SIDEWALK   CC</td>\n",
       "      <td>76</td>\n",
       "      <td>POLICE</td>\n",
       "      <td>39.954927</td>\n",
       "      <td>-75.140262</td>\n",
       "      <td>POINT (-75.14026 39.95493)</td>\n",
       "    </tr>\n",
       "  </tbody>\n",
       "</table>\n",
       "</div>"
      ],
      "text/plain": [
       "   anon_ticket_number    issue_datetime  anon_plate_id        violation_desc  \\\n",
       "0             4674379  01/01/2015 00:00         934383  BLOCKNG MASS TRANSIT   \n",
       "1             4707189  01/01/2015 00:00        1065037  BLOCKNG MASS TRANSIT   \n",
       "2             4584526  01/01/2015 00:01        1262953         SIDEWALK   CC   \n",
       "3             4669046  01/01/2015 00:01          47082         SIDEWALK   CC   \n",
       "4             4588341  01/01/2015 00:02        1509569         SIDEWALK   CC   \n",
       "\n",
       "   fine issuing_agency        lat        lon                    geometry  \n",
       "0   101          SEPTA  39.975789 -75.163471  POINT (-75.16347 39.97579)  \n",
       "1   101          SEPTA  39.975789 -75.163471  POINT (-75.16347 39.97579)  \n",
       "2    76         POLICE  39.954927 -75.140262  POINT (-75.14026 39.95493)  \n",
       "3    76         POLICE  39.954927 -75.140262  POINT (-75.14026 39.95493)  \n",
       "4    76         POLICE  39.954927 -75.140262  POINT (-75.14026 39.95493)  "
      ]
     },
     "execution_count": 9,
     "metadata": {},
     "output_type": "execute_result"
    }
   ],
   "source": [
    "gdf = gpd.read_file(\"data/output/parking_2015.geojson\")\n",
    "gdf.head()"
   ]
  },
  {
   "cell_type": "code",
   "execution_count": 10,
   "metadata": {},
   "outputs": [
    {
     "data": {
      "text/html": [
       "<div>\n",
       "<style scoped>\n",
       "    .dataframe tbody tr th:only-of-type {\n",
       "        vertical-align: middle;\n",
       "    }\n",
       "\n",
       "    .dataframe tbody tr th {\n",
       "        vertical-align: top;\n",
       "    }\n",
       "\n",
       "    .dataframe thead th {\n",
       "        text-align: right;\n",
       "    }\n",
       "</style>\n",
       "<table border=\"1\" class=\"dataframe\">\n",
       "  <thead>\n",
       "    <tr style=\"text-align: right;\">\n",
       "      <th></th>\n",
       "      <th>NAME</th>\n",
       "      <th>LISTNAME</th>\n",
       "      <th>MAPNAME</th>\n",
       "      <th>Shape_Leng</th>\n",
       "      <th>Shape_Area</th>\n",
       "      <th>NUMPOINTS</th>\n",
       "      <th>geometry</th>\n",
       "    </tr>\n",
       "  </thead>\n",
       "  <tbody>\n",
       "    <tr>\n",
       "      <th>0</th>\n",
       "      <td>BRIDESBURG</td>\n",
       "      <td>Bridesburg</td>\n",
       "      <td>Bridesburg</td>\n",
       "      <td>27814.546521</td>\n",
       "      <td>4.458626e+07</td>\n",
       "      <td>149.0</td>\n",
       "      <td>MULTIPOLYGON (((2719789.837 256235.538, 271981...</td>\n",
       "    </tr>\n",
       "    <tr>\n",
       "      <th>1</th>\n",
       "      <td>BUSTLETON</td>\n",
       "      <td>Bustleton</td>\n",
       "      <td>Bustleton</td>\n",
       "      <td>48868.458365</td>\n",
       "      <td>1.140504e+08</td>\n",
       "      <td>228.0</td>\n",
       "      <td>MULTIPOLYGON (((2733378.171 289259.945, 273281...</td>\n",
       "    </tr>\n",
       "    <tr>\n",
       "      <th>2</th>\n",
       "      <td>CEDARBROOK</td>\n",
       "      <td>Cedarbrook</td>\n",
       "      <td>Cedarbrook</td>\n",
       "      <td>20021.415802</td>\n",
       "      <td>2.487174e+07</td>\n",
       "      <td>129.0</td>\n",
       "      <td>MULTIPOLYGON (((2685267.950 279747.336, 268527...</td>\n",
       "    </tr>\n",
       "    <tr>\n",
       "      <th>3</th>\n",
       "      <td>CHESTNUT_HILL</td>\n",
       "      <td>Chestnut Hill</td>\n",
       "      <td>Chestnut Hill</td>\n",
       "      <td>56394.297195</td>\n",
       "      <td>7.966498e+07</td>\n",
       "      <td>7783.0</td>\n",
       "      <td>MULTIPOLYGON (((2678490.151 284400.400, 267851...</td>\n",
       "    </tr>\n",
       "    <tr>\n",
       "      <th>4</th>\n",
       "      <td>EAST_FALLS</td>\n",
       "      <td>East Falls</td>\n",
       "      <td>East Falls</td>\n",
       "      <td>27400.776417</td>\n",
       "      <td>4.057689e+07</td>\n",
       "      <td>3715.0</td>\n",
       "      <td>MULTIPOLYGON (((2686769.727 263625.367, 268692...</td>\n",
       "    </tr>\n",
       "  </tbody>\n",
       "</table>\n",
       "</div>"
      ],
      "text/plain": [
       "            NAME       LISTNAME        MAPNAME    Shape_Leng    Shape_Area  \\\n",
       "0     BRIDESBURG     Bridesburg     Bridesburg  27814.546521  4.458626e+07   \n",
       "1      BUSTLETON      Bustleton      Bustleton  48868.458365  1.140504e+08   \n",
       "2     CEDARBROOK     Cedarbrook     Cedarbrook  20021.415802  2.487174e+07   \n",
       "3  CHESTNUT_HILL  Chestnut Hill  Chestnut Hill  56394.297195  7.966498e+07   \n",
       "4     EAST_FALLS     East Falls     East Falls  27400.776417  4.057689e+07   \n",
       "\n",
       "   NUMPOINTS                                           geometry  \n",
       "0      149.0  MULTIPOLYGON (((2719789.837 256235.538, 271981...  \n",
       "1      228.0  MULTIPOLYGON (((2733378.171 289259.945, 273281...  \n",
       "2      129.0  MULTIPOLYGON (((2685267.950 279747.336, 268527...  \n",
       "3     7783.0  MULTIPOLYGON (((2678490.151 284400.400, 267851...  \n",
       "4     3715.0  MULTIPOLYGON (((2686769.727 263625.367, 268692...  "
      ]
     },
     "execution_count": 10,
     "metadata": {},
     "output_type": "execute_result"
    }
   ],
   "source": [
    "neighborhoods = gpd.read_file(\"data/neighbrhoods.geojson\")\n",
    "neighborhoods.head()"
   ]
  },
  {
   "cell_type": "code",
   "execution_count": 11,
   "metadata": {},
   "outputs": [
    {
     "data": {
      "text/plain": [
       "False"
      ]
     },
     "execution_count": 11,
     "metadata": {},
     "output_type": "execute_result"
    }
   ],
   "source": [
    "gdf.crs == neighborhoods.crs"
   ]
  },
  {
   "cell_type": "code",
   "execution_count": 12,
   "metadata": {},
   "outputs": [],
   "source": [
    "neighborhoods = neighborhoods.to_crs(\"EPSG:4326\")"
   ]
  },
  {
   "cell_type": "code",
   "execution_count": 13,
   "metadata": {},
   "outputs": [
    {
     "data": {
      "text/plain": [
       "True"
      ]
     },
     "execution_count": 13,
     "metadata": {},
     "output_type": "execute_result"
    }
   ],
   "source": [
    "gdf.crs == neighborhoods.crs"
   ]
  },
  {
   "cell_type": "code",
   "execution_count": 14,
   "metadata": {},
   "outputs": [],
   "source": [
    "location_join = gpd.sjoin(gdf, neighborhoods, op=\"within\")"
   ]
  },
  {
   "cell_type": "code",
   "execution_count": 15,
   "metadata": {},
   "outputs": [
    {
     "data": {
      "text/html": [
       "<div>\n",
       "<style scoped>\n",
       "    .dataframe tbody tr th:only-of-type {\n",
       "        vertical-align: middle;\n",
       "    }\n",
       "\n",
       "    .dataframe tbody tr th {\n",
       "        vertical-align: top;\n",
       "    }\n",
       "\n",
       "    .dataframe thead th {\n",
       "        text-align: right;\n",
       "    }\n",
       "</style>\n",
       "<table border=\"1\" class=\"dataframe\">\n",
       "  <thead>\n",
       "    <tr style=\"text-align: right;\">\n",
       "      <th></th>\n",
       "      <th>anon_ticket_number</th>\n",
       "      <th>issue_datetime</th>\n",
       "      <th>anon_plate_id</th>\n",
       "      <th>violation_desc</th>\n",
       "      <th>fine</th>\n",
       "      <th>issuing_agency</th>\n",
       "      <th>lat</th>\n",
       "      <th>lon</th>\n",
       "      <th>geometry</th>\n",
       "      <th>index_right</th>\n",
       "      <th>NAME</th>\n",
       "      <th>LISTNAME</th>\n",
       "      <th>MAPNAME</th>\n",
       "      <th>Shape_Leng</th>\n",
       "      <th>Shape_Area</th>\n",
       "      <th>NUMPOINTS</th>\n",
       "    </tr>\n",
       "  </thead>\n",
       "  <tbody>\n",
       "    <tr>\n",
       "      <th>0</th>\n",
       "      <td>4674379</td>\n",
       "      <td>01/01/2015 00:00</td>\n",
       "      <td>934383</td>\n",
       "      <td>BLOCKNG MASS TRANSIT</td>\n",
       "      <td>101</td>\n",
       "      <td>SEPTA</td>\n",
       "      <td>39.975789</td>\n",
       "      <td>-75.163471</td>\n",
       "      <td>POINT (-75.16347 39.97579)</td>\n",
       "      <td>81</td>\n",
       "      <td>NORTH_CENTRAL</td>\n",
       "      <td>North Central</td>\n",
       "      <td>North Central</td>\n",
       "      <td>19020.10092</td>\n",
       "      <td>1.984785e+07</td>\n",
       "      <td>13938.0</td>\n",
       "    </tr>\n",
       "    <tr>\n",
       "      <th>1</th>\n",
       "      <td>4707189</td>\n",
       "      <td>01/01/2015 00:00</td>\n",
       "      <td>1065037</td>\n",
       "      <td>BLOCKNG MASS TRANSIT</td>\n",
       "      <td>101</td>\n",
       "      <td>SEPTA</td>\n",
       "      <td>39.975789</td>\n",
       "      <td>-75.163471</td>\n",
       "      <td>POINT (-75.16347 39.97579)</td>\n",
       "      <td>81</td>\n",
       "      <td>NORTH_CENTRAL</td>\n",
       "      <td>North Central</td>\n",
       "      <td>North Central</td>\n",
       "      <td>19020.10092</td>\n",
       "      <td>1.984785e+07</td>\n",
       "      <td>13938.0</td>\n",
       "    </tr>\n",
       "    <tr>\n",
       "      <th>70</th>\n",
       "      <td>4711899</td>\n",
       "      <td>01/01/2015 02:31</td>\n",
       "      <td>462325</td>\n",
       "      <td>BLOCKING DRIVEWAY</td>\n",
       "      <td>51</td>\n",
       "      <td>POLICE</td>\n",
       "      <td>39.977186</td>\n",
       "      <td>-75.163167</td>\n",
       "      <td>POINT (-75.16317 39.97719)</td>\n",
       "      <td>81</td>\n",
       "      <td>NORTH_CENTRAL</td>\n",
       "      <td>North Central</td>\n",
       "      <td>North Central</td>\n",
       "      <td>19020.10092</td>\n",
       "      <td>1.984785e+07</td>\n",
       "      <td>13938.0</td>\n",
       "    </tr>\n",
       "    <tr>\n",
       "      <th>80</th>\n",
       "      <td>4821765</td>\n",
       "      <td>01/01/2015 03:50</td>\n",
       "      <td>784437</td>\n",
       "      <td>FIRE HYDRANT</td>\n",
       "      <td>76</td>\n",
       "      <td>POLICE</td>\n",
       "      <td>39.982581</td>\n",
       "      <td>-75.164014</td>\n",
       "      <td>POINT (-75.16401 39.98258)</td>\n",
       "      <td>81</td>\n",
       "      <td>NORTH_CENTRAL</td>\n",
       "      <td>North Central</td>\n",
       "      <td>North Central</td>\n",
       "      <td>19020.10092</td>\n",
       "      <td>1.984785e+07</td>\n",
       "      <td>13938.0</td>\n",
       "    </tr>\n",
       "    <tr>\n",
       "      <th>101</th>\n",
       "      <td>4554244</td>\n",
       "      <td>01/01/2015 08:15</td>\n",
       "      <td>634127</td>\n",
       "      <td>SIDEWALK</td>\n",
       "      <td>51</td>\n",
       "      <td>PENN</td>\n",
       "      <td>39.983382</td>\n",
       "      <td>-75.164248</td>\n",
       "      <td>POINT (-75.16425 39.98338)</td>\n",
       "      <td>81</td>\n",
       "      <td>NORTH_CENTRAL</td>\n",
       "      <td>North Central</td>\n",
       "      <td>North Central</td>\n",
       "      <td>19020.10092</td>\n",
       "      <td>1.984785e+07</td>\n",
       "      <td>13938.0</td>\n",
       "    </tr>\n",
       "  </tbody>\n",
       "</table>\n",
       "</div>"
      ],
      "text/plain": [
       "     anon_ticket_number    issue_datetime  anon_plate_id  \\\n",
       "0               4674379  01/01/2015 00:00         934383   \n",
       "1               4707189  01/01/2015 00:00        1065037   \n",
       "70              4711899  01/01/2015 02:31         462325   \n",
       "80              4821765  01/01/2015 03:50         784437   \n",
       "101             4554244  01/01/2015 08:15         634127   \n",
       "\n",
       "           violation_desc  fine issuing_agency        lat        lon  \\\n",
       "0    BLOCKNG MASS TRANSIT   101          SEPTA  39.975789 -75.163471   \n",
       "1    BLOCKNG MASS TRANSIT   101          SEPTA  39.975789 -75.163471   \n",
       "70      BLOCKING DRIVEWAY    51         POLICE  39.977186 -75.163167   \n",
       "80           FIRE HYDRANT    76         POLICE  39.982581 -75.164014   \n",
       "101              SIDEWALK    51           PENN  39.983382 -75.164248   \n",
       "\n",
       "                       geometry  index_right           NAME       LISTNAME  \\\n",
       "0    POINT (-75.16347 39.97579)           81  NORTH_CENTRAL  North Central   \n",
       "1    POINT (-75.16347 39.97579)           81  NORTH_CENTRAL  North Central   \n",
       "70   POINT (-75.16317 39.97719)           81  NORTH_CENTRAL  North Central   \n",
       "80   POINT (-75.16401 39.98258)           81  NORTH_CENTRAL  North Central   \n",
       "101  POINT (-75.16425 39.98338)           81  NORTH_CENTRAL  North Central   \n",
       "\n",
       "           MAPNAME   Shape_Leng    Shape_Area  NUMPOINTS  \n",
       "0    North Central  19020.10092  1.984785e+07    13938.0  \n",
       "1    North Central  19020.10092  1.984785e+07    13938.0  \n",
       "70   North Central  19020.10092  1.984785e+07    13938.0  \n",
       "80   North Central  19020.10092  1.984785e+07    13938.0  \n",
       "101  North Central  19020.10092  1.984785e+07    13938.0  "
      ]
     },
     "execution_count": 15,
     "metadata": {},
     "output_type": "execute_result"
    }
   ],
   "source": [
    "location_join.head()"
   ]
  },
  {
   "cell_type": "code",
   "execution_count": 16,
   "metadata": {},
   "outputs": [
    {
     "data": {
      "text/html": [
       "<div>\n",
       "<style scoped>\n",
       "    .dataframe tbody tr th:only-of-type {\n",
       "        vertical-align: middle;\n",
       "    }\n",
       "\n",
       "    .dataframe tbody tr th {\n",
       "        vertical-align: top;\n",
       "    }\n",
       "\n",
       "    .dataframe thead th {\n",
       "        text-align: right;\n",
       "    }\n",
       "</style>\n",
       "<table border=\"1\" class=\"dataframe\">\n",
       "  <thead>\n",
       "    <tr style=\"text-align: right;\">\n",
       "      <th></th>\n",
       "      <th>NAME</th>\n",
       "      <th>LISTNAME</th>\n",
       "      <th>MAPNAME</th>\n",
       "      <th>Shape_Leng</th>\n",
       "      <th>Shape_Area</th>\n",
       "      <th>NUMPOINTS</th>\n",
       "      <th>geometry</th>\n",
       "      <th>Count</th>\n",
       "    </tr>\n",
       "  </thead>\n",
       "  <tbody>\n",
       "    <tr>\n",
       "      <th>0</th>\n",
       "      <td>BRIDESBURG</td>\n",
       "      <td>Bridesburg</td>\n",
       "      <td>Bridesburg</td>\n",
       "      <td>27814.546521</td>\n",
       "      <td>4.458626e+07</td>\n",
       "      <td>149.0</td>\n",
       "      <td>MULTIPOLYGON (((-75.06773 40.00540, -75.06765 ...</td>\n",
       "      <td>22.0</td>\n",
       "    </tr>\n",
       "    <tr>\n",
       "      <th>1</th>\n",
       "      <td>BUSTLETON</td>\n",
       "      <td>Bustleton</td>\n",
       "      <td>Bustleton</td>\n",
       "      <td>48868.458365</td>\n",
       "      <td>1.140504e+08</td>\n",
       "      <td>228.0</td>\n",
       "      <td>MULTIPOLYGON (((-75.01560 40.09487, -75.01768 ...</td>\n",
       "      <td>59.0</td>\n",
       "    </tr>\n",
       "    <tr>\n",
       "      <th>2</th>\n",
       "      <td>CEDARBROOK</td>\n",
       "      <td>Cedarbrook</td>\n",
       "      <td>Cedarbrook</td>\n",
       "      <td>20021.415802</td>\n",
       "      <td>2.487174e+07</td>\n",
       "      <td>129.0</td>\n",
       "      <td>MULTIPOLYGON (((-75.18848 40.07273, -75.18846 ...</td>\n",
       "      <td>10.0</td>\n",
       "    </tr>\n",
       "    <tr>\n",
       "      <th>3</th>\n",
       "      <td>CHESTNUT_HILL</td>\n",
       "      <td>Chestnut Hill</td>\n",
       "      <td>Chestnut Hill</td>\n",
       "      <td>56394.297195</td>\n",
       "      <td>7.966498e+07</td>\n",
       "      <td>7783.0</td>\n",
       "      <td>MULTIPOLYGON (((-75.21221 40.08604, -75.21210 ...</td>\n",
       "      <td>716.0</td>\n",
       "    </tr>\n",
       "    <tr>\n",
       "      <th>4</th>\n",
       "      <td>EAST_FALLS</td>\n",
       "      <td>East Falls</td>\n",
       "      <td>East Falls</td>\n",
       "      <td>27400.776417</td>\n",
       "      <td>4.057689e+07</td>\n",
       "      <td>3715.0</td>\n",
       "      <td>MULTIPOLYGON (((-75.18478 40.02837, -75.18426 ...</td>\n",
       "      <td>553.0</td>\n",
       "    </tr>\n",
       "  </tbody>\n",
       "</table>\n",
       "</div>"
      ],
      "text/plain": [
       "            NAME       LISTNAME        MAPNAME    Shape_Leng    Shape_Area  \\\n",
       "0     BRIDESBURG     Bridesburg     Bridesburg  27814.546521  4.458626e+07   \n",
       "1      BUSTLETON      Bustleton      Bustleton  48868.458365  1.140504e+08   \n",
       "2     CEDARBROOK     Cedarbrook     Cedarbrook  20021.415802  2.487174e+07   \n",
       "3  CHESTNUT_HILL  Chestnut Hill  Chestnut Hill  56394.297195  7.966498e+07   \n",
       "4     EAST_FALLS     East Falls     East Falls  27400.776417  4.057689e+07   \n",
       "\n",
       "   NUMPOINTS                                           geometry  Count  \n",
       "0      149.0  MULTIPOLYGON (((-75.06773 40.00540, -75.06765 ...   22.0  \n",
       "1      228.0  MULTIPOLYGON (((-75.01560 40.09487, -75.01768 ...   59.0  \n",
       "2      129.0  MULTIPOLYGON (((-75.18848 40.07273, -75.18846 ...   10.0  \n",
       "3     7783.0  MULTIPOLYGON (((-75.21221 40.08604, -75.21210 ...  716.0  \n",
       "4     3715.0  MULTIPOLYGON (((-75.18478 40.02837, -75.18426 ...  553.0  "
      ]
     },
     "execution_count": 16,
     "metadata": {},
     "output_type": "execute_result"
    }
   ],
   "source": [
    "# fill in the missing values in the neighborhood column with the neighborhood name from the neighborhoods GeoDataFrame.\n",
    "def count_numpoints(joined, polygons, merge_on): # create a function to count the number of points in each neighborhood\n",
    "    grouped = joined.groupby(merge_on).size() # group the data by the neighborhood column\n",
    "    df = grouped.to_frame().reset_index() # convert the grouped data to a dataframe\n",
    "    df.columns = [merge_on, \"Count\"] # rename the columns\n",
    "    return polygons.merge(df, on=merge_on, how=\"outer\") # merge the polygons dataframe with the dataframe containing the counts\n",
    "\n",
    "numpoints_per_neigh = count_numpoints(location_join, neighborhoods, \"NAME\") # call the function to count the number of points in each neighborhood\n",
    "numpoints_per_neigh.head()"
   ]
  },
  {
   "cell_type": "code",
   "execution_count": 17,
   "metadata": {},
   "outputs": [
    {
     "name": "stdout",
     "output_type": "stream",
     "text": [
      "User Guide: https://docs.kepler.gl/docs/keplergl-jupyter\n"
     ]
    },
    {
     "data": {
      "application/vnd.jupyter.widget-view+json": {
       "model_id": "3dbb4cb86664491d80623ac6444dc03a",
       "version_major": 2,
       "version_minor": 0
      },
      "text/plain": [
       "KeplerGl(data={'choropleth_map': {'index': [0, 1, 2, 3, 4, 5, 6, 7, 8, 9, 10, 11, 12, 13, 14, 15, 16, 17, 18, …"
      ]
     },
     "metadata": {},
     "output_type": "display_data"
    }
   ],
   "source": [
    "m = KeplerGl(height=900)\n",
    "m.add_data(data=numpoints_per_neigh, name='choropleth_map')\n",
    "m"
   ]
  },
  {
   "cell_type": "code",
   "execution_count": null,
   "metadata": {},
   "outputs": [],
   "source": []
  }
 ],
 "metadata": {
  "kernelspec": {
   "display_name": "spatialds",
   "language": "python",
   "name": "spatialds"
  },
  "language_info": {
   "codemirror_mode": {
    "name": "ipython",
    "version": 3
   },
   "file_extension": ".py",
   "mimetype": "text/x-python",
   "name": "python",
   "nbconvert_exporter": "python",
   "pygments_lexer": "ipython3",
   "version": "3.7.10"
  },
  "widgets": {
   "application/vnd.jupyter.widget-state+json": {
    "state": {},
    "version_major": 2,
    "version_minor": 0
   }
  }
 },
 "nbformat": 4,
 "nbformat_minor": 4
}
