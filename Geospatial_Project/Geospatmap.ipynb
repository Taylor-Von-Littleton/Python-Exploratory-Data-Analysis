{
 "cells": [
  {
   "cell_type": "code",
   "execution_count": 11,
   "metadata": {},
   "outputs": [
    {
     "name": "stdout",
     "output_type": "stream",
     "text": [
      "Collecting package metadata (current_repodata.json): ...working... done\n",
      "Solving environment: ...working... failed with initial frozen solve. Retrying with flexible solve.\n",
      "Collecting package metadata (repodata.json): ...working... done\n",
      "Solving environment: ...working... failed with initial frozen solve. Retrying with flexible solve.\n"
     ]
    },
    {
     "name": "stderr",
     "output_type": "stream",
     "text": [
      "\n",
      "PackagesNotFoundError: The following packages are not available from current channels:\n",
      "\n",
      "  - gpd\n",
      "  - as\n",
      "\n",
      "Current channels:\n",
      "\n",
      "  - https://repo.anaconda.com/pkgs/main/win-64\n",
      "  - https://repo.anaconda.com/pkgs/main/noarch\n",
      "  - https://repo.anaconda.com/pkgs/r/win-64\n",
      "  - https://repo.anaconda.com/pkgs/r/noarch\n",
      "  - https://repo.anaconda.com/pkgs/msys2/win-64\n",
      "  - https://repo.anaconda.com/pkgs/msys2/noarch\n",
      "\n",
      "To search for alternate channels that may provide the conda package you're\n",
      "looking for, navigate to\n",
      "\n",
      "    https://anaconda.org\n",
      "\n",
      "and use the search bar at the top of the page.\n",
      "\n",
      "\n"
     ]
    }
   ],
   "source": [
    "!conda install geopandas as gpd"
   ]
  },
  {
   "cell_type": "code",
   "execution_count": 7,
   "metadata": {},
   "outputs": [
    {
     "ename": "ModuleNotFoundError",
     "evalue": "No module named 'geopandas'",
     "output_type": "error",
     "traceback": [
      "\u001b[1;31m---------------------------------------------------------------------------\u001b[0m",
      "\u001b[1;31mModuleNotFoundError\u001b[0m                       Traceback (most recent call last)",
      "Input \u001b[1;32mIn [7]\u001b[0m, in \u001b[0;36m<cell line: 2>\u001b[1;34m()\u001b[0m\n\u001b[0;32m      1\u001b[0m \u001b[38;5;28;01mimport\u001b[39;00m \u001b[38;5;21;01mpandas\u001b[39;00m \u001b[38;5;28;01mas\u001b[39;00m \u001b[38;5;21;01mpd\u001b[39;00m\n\u001b[1;32m----> 2\u001b[0m \u001b[38;5;28;01mimport\u001b[39;00m \u001b[38;5;21;01mgeopandas\u001b[39;00m \u001b[38;5;28;01mas\u001b[39;00m \u001b[38;5;21;01mgpd\u001b[39;00m\n\u001b[0;32m      3\u001b[0m \u001b[38;5;28;01mfrom\u001b[39;00m \u001b[38;5;21;01mkeplergl\u001b[39;00m \u001b[38;5;28;01mimport\u001b[39;00m KeplerGl\n",
      "\u001b[1;31mModuleNotFoundError\u001b[0m: No module named 'geopandas'"
     ]
    }
   ],
   "source": [
    "import pandas as pd\n",
    "import geopandas as gpd\n",
    "from keplergl import KeplerGl "
   ]
  },
  {
   "cell_type": "markdown",
   "metadata": {},
   "source": [
    "## Task 2: Kepler GL"
   ]
  },
  {
   "cell_type": "code",
   "execution_count": 8,
   "metadata": {},
   "outputs": [
    {
     "ename": "NameError",
     "evalue": "name 'KeplerGl' is not defined",
     "output_type": "error",
     "traceback": [
      "\u001b[1;31m---------------------------------------------------------------------------\u001b[0m",
      "\u001b[1;31mNameError\u001b[0m                                 Traceback (most recent call last)",
      "Input \u001b[1;32mIn [8]\u001b[0m, in \u001b[0;36m<cell line: 2>\u001b[1;34m()\u001b[0m\n\u001b[0;32m      1\u001b[0m \u001b[38;5;66;03m#Create a basemap \u001b[39;00m\n\u001b[1;32m----> 2\u001b[0m m \u001b[38;5;241m=\u001b[39m \u001b[43mKeplerGl\u001b[49m(height\u001b[38;5;241m=\u001b[39m\u001b[38;5;241m600\u001b[39m, width\u001b[38;5;241m=\u001b[39m\u001b[38;5;241m800\u001b[39m) \u001b[38;5;66;03m# The KeplerGL command line tool is used to create a map\u001b[39;00m\n\u001b[0;32m      4\u001b[0m \u001b[38;5;66;03m#show the map\u001b[39;00m\n\u001b[0;32m      5\u001b[0m m\n",
      "\u001b[1;31mNameError\u001b[0m: name 'KeplerGl' is not defined"
     ]
    }
   ],
   "source": [
    "#Create a basemap \n",
    "m = KeplerGl(height=600, width=800) # The KeplerGL command line tool is used to create a map\n",
    "\n",
    "#show the map\n",
    "m"
   ]
  },
  {
   "cell_type": "code",
   "execution_count": 9,
   "metadata": {},
   "outputs": [
    {
     "data": {
      "text/html": [
       "<div>\n",
       "<style scoped>\n",
       "    .dataframe tbody tr th:only-of-type {\n",
       "        vertical-align: middle;\n",
       "    }\n",
       "\n",
       "    .dataframe tbody tr th {\n",
       "        vertical-align: top;\n",
       "    }\n",
       "\n",
       "    .dataframe thead th {\n",
       "        text-align: right;\n",
       "    }\n",
       "</style>\n",
       "<table border=\"1\" class=\"dataframe\">\n",
       "  <thead>\n",
       "    <tr style=\"text-align: right;\">\n",
       "      <th></th>\n",
       "      <th>City</th>\n",
       "      <th>Country</th>\n",
       "      <th>Latitude</th>\n",
       "      <th>Longitude</th>\n",
       "      <th>Population</th>\n",
       "    </tr>\n",
       "  </thead>\n",
       "  <tbody>\n",
       "    <tr>\n",
       "      <th>0</th>\n",
       "      <td>Shanghai</td>\n",
       "      <td>China</td>\n",
       "      <td>31.045556</td>\n",
       "      <td>121.399722</td>\n",
       "      <td>14608512</td>\n",
       "    </tr>\n",
       "    <tr>\n",
       "      <th>1</th>\n",
       "      <td>Sao paulo</td>\n",
       "      <td>Brazil</td>\n",
       "      <td>-23.473293</td>\n",
       "      <td>-46.665803</td>\n",
       "      <td>10021437</td>\n",
       "    </tr>\n",
       "    <tr>\n",
       "      <th>2</th>\n",
       "      <td>Cairo</td>\n",
       "      <td>Egypt</td>\n",
       "      <td>30.050000</td>\n",
       "      <td>31.250000</td>\n",
       "      <td>7734602</td>\n",
       "    </tr>\n",
       "    <tr>\n",
       "      <th>3</th>\n",
       "      <td>London</td>\n",
       "      <td>England</td>\n",
       "      <td>51.514125</td>\n",
       "      <td>-0.093689</td>\n",
       "      <td>7421228</td>\n",
       "    </tr>\n",
       "    <tr>\n",
       "      <th>4</th>\n",
       "      <td>Toronto</td>\n",
       "      <td>Canada</td>\n",
       "      <td>43.666667</td>\n",
       "      <td>-79.416667</td>\n",
       "      <td>4612187</td>\n",
       "    </tr>\n",
       "    <tr>\n",
       "      <th>5</th>\n",
       "      <td>Sydney</td>\n",
       "      <td>Australia</td>\n",
       "      <td>-33.861481</td>\n",
       "      <td>151.205475</td>\n",
       "      <td>4394585</td>\n",
       "    </tr>\n",
       "  </tbody>\n",
       "</table>\n",
       "</div>"
      ],
      "text/plain": [
       "        City    Country   Latitude   Longitude  Population\n",
       "0   Shanghai      China  31.045556  121.399722    14608512\n",
       "1  Sao paulo     Brazil -23.473293  -46.665803    10021437\n",
       "2      Cairo      Egypt  30.050000   31.250000     7734602\n",
       "3     London    England  51.514125   -0.093689     7421228\n",
       "4    Toronto     Canada  43.666667  -79.416667     4612187\n",
       "5     Sydney  Australia -33.861481  151.205475     4394585"
      ]
     },
     "execution_count": 9,
     "metadata": {},
     "output_type": "execute_result"
    }
   ],
   "source": [
    "# Create a Dataframe with columns for city, country, latitude, longitude, and population and input data\n",
    "df = pd.DataFrame(\n",
    "    {\n",
    "        \"City\": [\"Shanghai\", \"Sao paulo\", \"Cairo\", \"London\", \"Toronto\", \"Sydney\"],\n",
    "        \"Country\": [\"China\", \"Brazil\", \"Egypt\", \"England\", \"Canada\", \"Australia\"],\n",
    "        \"Latitude\": [31.045556, -23.473293, 30.05, 51.514125, 43.666667, -33.861481], #These are the coordinates of each of the corresponding cities\n",
    "        \"Longitude\": [121.399722, -46.665803, 31.25, -0.093689, -79.416667, 151.205475],\n",
    "        \"Population\": [14608512, 10021437, 7734602, 7421228, 4612187, 4394585],\n",
    "    }\n",
    ")\n",
    "\n",
    "\n",
    "df #display the datafram we just created"
   ]
  },
  {
   "cell_type": "code",
   "execution_count": 9,
   "metadata": {},
   "outputs": [],
   "source": [
    "\n",
    "m.add_data(data=df, name='cities') #This will create dots on the map for each city with the corresponding population"
   ]
  },
  {
   "cell_type": "code",
   "execution_count": null,
   "metadata": {},
   "outputs": [],
   "source": [
    "m #display the map"
   ]
  },
  {
   "cell_type": "markdown",
   "id": "numerical-clinic",
   "metadata": {},
   "source": [
    "## Task 3: Customizing Point Map"
   ]
  },
  {
   "cell_type": "code",
   "execution_count": 11,
   "id": "sonic-novel",
   "metadata": {},
   "outputs": [],
   "source": [
    "import pandas as pd\n",
    "import geopandas as gpd\n",
    "from keplergl import KeplerGl\n"
   ]
  },
  {
   "cell_type": "code",
   "execution_count": 12,
   "id": "stopped-discipline",
   "metadata": {},
   "outputs": [
    {
     "name": "stdout",
     "output_type": "stream",
     "text": [
      "User Guide: https://docs.kepler.gl/docs/keplergl-jupyter\n"
     ]
    }
   ],
   "source": [
    "# Create A dataframe\n",
    "\n",
    "df = pd.DataFrame(\n",
    "    {\n",
    "        \"City\": [\"Shanghai\", \"Sao paulo\", \"Cairo\", \"London\", \"Toronto\", \"Sydney\"],\n",
    "        \"Country\": [\"China\", \"Brazil\", \"Egypt\", \"England\", \"Canada\", \"Australia\"],\n",
    "        \"Latitude\": [31.045556, -23.473293, 30.05, 51.514125, 43.666667, -33.861481],\n",
    "        \"Longitude\": [121.399722, -46.665803, 31.25, -0.093689, -79.416667, 151.205475],\n",
    "        \"Population\": [14608512, 10021437, 7734602, 7421228, 4612187, 4394585],\n",
    "    }\n",
    ")\n",
    "\n",
    "\n",
    "# Create a Kepler Map\n",
    "m = KeplerGl(height=600, width=800)\n",
    "\n",
    "# Add Dataframe to the map\n",
    "m.add_data(data=df, name='cities')"
   ]
  },
  {
   "cell_type": "code",
   "execution_count": 13,
   "id": "cheap-weight",
   "metadata": {},
   "outputs": [
    {
     "data": {
      "application/vnd.jupyter.widget-view+json": {
       "model_id": "5f750e4c58f3411f855e2fee288f12f4",
       "version_major": 2,
       "version_minor": 0
      },
      "text/plain": [
       "KeplerGl(data={'cities': {'index': [0, 1, 2, 3, 4, 5], 'columns': ['City', 'Country', 'Latitude', 'Longitude',…"
      ]
     },
     "metadata": {},
     "output_type": "display_data"
    }
   ],
   "source": [
    "m"
   ]
  },
  {
   "cell_type": "code",
   "execution_count": null,
   "id": "municipal-isolation",
   "metadata": {},
   "outputs": [],
   "source": []
  },
  {
   "cell_type": "markdown",
   "id": "immune-valve",
   "metadata": {},
   "source": [
    "## Task 4: Adding Geographic Data"
   ]
  },
  {
   "cell_type": "code",
   "execution_count": 2,
   "metadata": {
    "scrolled": true
   },
   "outputs": [
    {
     "name": "stdout",
     "output_type": "stream",
     "text": [
      "Collecting geopandas"
     ]
    },
    {
     "name": "stderr",
     "output_type": "stream",
     "text": [
      "ERROR: Could not find a version that satisfies the requirement as (from versions: none)\n",
      "ERROR: No matching distribution found for as\n"
     ]
    },
    {
     "name": "stdout",
     "output_type": "stream",
     "text": [
      "\n",
      "  Using cached geopandas-0.11.0-py3-none-any.whl (1.0 MB)\n"
     ]
    }
   ],
   "source": [
    "!pip3 install geopandas as gpd"
   ]
  },
  {
   "cell_type": "code",
   "execution_count": 1,
   "metadata": {
    "scrolled": true
   },
   "outputs": [
    {
     "ename": "ModuleNotFoundError",
     "evalue": "No module named 'geopandas'",
     "output_type": "error",
     "traceback": [
      "\u001b[1;31m---------------------------------------------------------------------------\u001b[0m",
      "\u001b[1;31mModuleNotFoundError\u001b[0m                       Traceback (most recent call last)",
      "Input \u001b[1;32mIn [1]\u001b[0m, in \u001b[0;36m<cell line: 2>\u001b[1;34m()\u001b[0m\n\u001b[0;32m      1\u001b[0m \u001b[38;5;28;01mimport\u001b[39;00m \u001b[38;5;21;01mpandas\u001b[39;00m \u001b[38;5;28;01mas\u001b[39;00m \u001b[38;5;21;01mpd\u001b[39;00m\n\u001b[1;32m----> 2\u001b[0m \u001b[38;5;28;01mimport\u001b[39;00m \u001b[38;5;21;01mgeopandas\u001b[39;00m \u001b[38;5;28;01mas\u001b[39;00m \u001b[38;5;21;01mgpd\u001b[39;00m\n\u001b[0;32m      3\u001b[0m \u001b[38;5;28;01mfrom\u001b[39;00m \u001b[38;5;21;01mkeplergl\u001b[39;00m \u001b[38;5;28;01mimport\u001b[39;00m KeplerGl\n",
      "\u001b[1;31mModuleNotFoundError\u001b[0m: No module named 'geopandas'"
     ]
    }
   ],
   "source": [
    "import pandas as pd\n",
    "import geopandas as gpd\n",
    "from keplergl import KeplerGl"
   ]
  },
  {
   "cell_type": "code",
   "execution_count": 3,
   "id": "hazardous-arctic",
   "metadata": {},
   "outputs": [
    {
     "data": {
      "text/html": [
       "<div>\n",
       "<style scoped>\n",
       "    .dataframe tbody tr th:only-of-type {\n",
       "        vertical-align: middle;\n",
       "    }\n",
       "\n",
       "    .dataframe tbody tr th {\n",
       "        vertical-align: top;\n",
       "    }\n",
       "\n",
       "    .dataframe thead th {\n",
       "        text-align: right;\n",
       "    }\n",
       "</style>\n",
       "<table border=\"1\" class=\"dataframe\">\n",
       "  <thead>\n",
       "    <tr style=\"text-align: right;\">\n",
       "      <th></th>\n",
       "      <th>anon_ticket_number</th>\n",
       "      <th>issue_datetime</th>\n",
       "      <th>anon_plate_id</th>\n",
       "      <th>violation_desc</th>\n",
       "      <th>fine</th>\n",
       "      <th>issuing_agency</th>\n",
       "      <th>lat</th>\n",
       "      <th>lon</th>\n",
       "    </tr>\n",
       "  </thead>\n",
       "  <tbody>\n",
       "    <tr>\n",
       "      <th>0</th>\n",
       "      <td>4674379</td>\n",
       "      <td>01/01/2015 00:00</td>\n",
       "      <td>934383</td>\n",
       "      <td>BLOCKNG MASS TRANSIT</td>\n",
       "      <td>101</td>\n",
       "      <td>SEPTA</td>\n",
       "      <td>39.975789</td>\n",
       "      <td>-75.163471</td>\n",
       "    </tr>\n",
       "    <tr>\n",
       "      <th>1</th>\n",
       "      <td>4707189</td>\n",
       "      <td>01/01/2015 00:00</td>\n",
       "      <td>1065037</td>\n",
       "      <td>BLOCKNG MASS TRANSIT</td>\n",
       "      <td>101</td>\n",
       "      <td>SEPTA</td>\n",
       "      <td>39.975789</td>\n",
       "      <td>-75.163471</td>\n",
       "    </tr>\n",
       "    <tr>\n",
       "      <th>2</th>\n",
       "      <td>4584526</td>\n",
       "      <td>01/01/2015 00:01</td>\n",
       "      <td>1262953</td>\n",
       "      <td>SIDEWALK   CC</td>\n",
       "      <td>76</td>\n",
       "      <td>POLICE</td>\n",
       "      <td>39.954927</td>\n",
       "      <td>-75.140262</td>\n",
       "    </tr>\n",
       "    <tr>\n",
       "      <th>3</th>\n",
       "      <td>4669046</td>\n",
       "      <td>01/01/2015 00:01</td>\n",
       "      <td>47082</td>\n",
       "      <td>SIDEWALK   CC</td>\n",
       "      <td>76</td>\n",
       "      <td>POLICE</td>\n",
       "      <td>39.954927</td>\n",
       "      <td>-75.140262</td>\n",
       "    </tr>\n",
       "    <tr>\n",
       "      <th>4</th>\n",
       "      <td>4588341</td>\n",
       "      <td>01/01/2015 00:02</td>\n",
       "      <td>1509569</td>\n",
       "      <td>SIDEWALK   CC</td>\n",
       "      <td>76</td>\n",
       "      <td>POLICE</td>\n",
       "      <td>39.954927</td>\n",
       "      <td>-75.140262</td>\n",
       "    </tr>\n",
       "  </tbody>\n",
       "</table>\n",
       "</div>"
      ],
      "text/plain": [
       "   anon_ticket_number    issue_datetime  anon_plate_id        violation_desc  \\\n",
       "0             4674379  01/01/2015 00:00         934383  BLOCKNG MASS TRANSIT   \n",
       "1             4707189  01/01/2015 00:00        1065037  BLOCKNG MASS TRANSIT   \n",
       "2             4584526  01/01/2015 00:01        1262953         SIDEWALK   CC   \n",
       "3             4669046  01/01/2015 00:01          47082         SIDEWALK   CC   \n",
       "4             4588341  01/01/2015 00:02        1509569         SIDEWALK   CC   \n",
       "\n",
       "   fine issuing_agency        lat        lon  \n",
       "0   101          SEPTA  39.975789 -75.163471  \n",
       "1   101          SEPTA  39.975789 -75.163471  \n",
       "2    76         POLICE  39.954927 -75.140262  \n",
       "3    76         POLICE  39.954927 -75.140262  \n",
       "4    76         POLICE  39.954927 -75.140262  "
      ]
     },
     "execution_count": 3,
     "metadata": {},
     "output_type": "execute_result"
    }
   ],
   "source": [
    "parking_df = pd.read_csv(\"Data/parking_violations_2015.csv\")\n",
    "parking_df.head()"
   ]
  },
  {
   "cell_type": "code",
   "execution_count": 4,
   "id": "female-adaptation",
   "metadata": {},
   "outputs": [
    {
     "data": {
      "text/plain": [
       "(119910, 8)"
      ]
     },
     "execution_count": 4,
     "metadata": {},
     "output_type": "execute_result"
    }
   ],
   "source": [
    "parking_df.shape"
   ]
  },
  {
   "cell_type": "code",
   "execution_count": 5,
   "id": "dried-pride",
   "metadata": {},
   "outputs": [],
   "source": [
    "#drop entries with missing latitude and longitude attributes\n",
    "parking_df.dropna(subset=[\"lat\", \"lon\"], how='all', inplace=True)"
   ]
  },
  {
   "cell_type": "code",
   "execution_count": 6,
   "id": "black-bidding",
   "metadata": {},
   "outputs": [
    {
     "data": {
      "text/plain": [
       "(107710, 8)"
      ]
     },
     "execution_count": 6,
     "metadata": {},
     "output_type": "execute_result"
    }
   ],
   "source": [
    "#Notice that we went from 119910 entries to 107710 entries\n",
    "parking_df.shape"
   ]
  },
  {
   "cell_type": "code",
   "execution_count": 12,
   "id": "indie-pepper",
   "metadata": {},
   "outputs": [
    {
     "data": {
      "text/html": [
       "<div>\n",
       "<style scoped>\n",
       "    .dataframe tbody tr th:only-of-type {\n",
       "        vertical-align: middle;\n",
       "    }\n",
       "\n",
       "    .dataframe tbody tr th {\n",
       "        vertical-align: top;\n",
       "    }\n",
       "\n",
       "    .dataframe thead th {\n",
       "        text-align: right;\n",
       "    }\n",
       "</style>\n",
       "<table border=\"1\" class=\"dataframe\">\n",
       "  <thead>\n",
       "    <tr style=\"text-align: right;\">\n",
       "      <th></th>\n",
       "      <th>anon_ticket_number</th>\n",
       "      <th>issue_datetime</th>\n",
       "      <th>anon_plate_id</th>\n",
       "      <th>violation_desc</th>\n",
       "      <th>fine</th>\n",
       "      <th>issuing_agency</th>\n",
       "      <th>lat</th>\n",
       "      <th>lon</th>\n",
       "      <th>geometry</th>\n",
       "    </tr>\n",
       "  </thead>\n",
       "  <tbody>\n",
       "    <tr>\n",
       "      <th>0</th>\n",
       "      <td>4674379</td>\n",
       "      <td>01/01/2015 00:00</td>\n",
       "      <td>934383</td>\n",
       "      <td>BLOCKNG MASS TRANSIT</td>\n",
       "      <td>101</td>\n",
       "      <td>SEPTA</td>\n",
       "      <td>39.975789</td>\n",
       "      <td>-75.163471</td>\n",
       "      <td>POINT (-75.16347 39.97579)</td>\n",
       "    </tr>\n",
       "    <tr>\n",
       "      <th>1</th>\n",
       "      <td>4707189</td>\n",
       "      <td>01/01/2015 00:00</td>\n",
       "      <td>1065037</td>\n",
       "      <td>BLOCKNG MASS TRANSIT</td>\n",
       "      <td>101</td>\n",
       "      <td>SEPTA</td>\n",
       "      <td>39.975789</td>\n",
       "      <td>-75.163471</td>\n",
       "      <td>POINT (-75.16347 39.97579)</td>\n",
       "    </tr>\n",
       "    <tr>\n",
       "      <th>2</th>\n",
       "      <td>4584526</td>\n",
       "      <td>01/01/2015 00:01</td>\n",
       "      <td>1262953</td>\n",
       "      <td>SIDEWALK   CC</td>\n",
       "      <td>76</td>\n",
       "      <td>POLICE</td>\n",
       "      <td>39.954927</td>\n",
       "      <td>-75.140262</td>\n",
       "      <td>POINT (-75.14026 39.95493)</td>\n",
       "    </tr>\n",
       "    <tr>\n",
       "      <th>3</th>\n",
       "      <td>4669046</td>\n",
       "      <td>01/01/2015 00:01</td>\n",
       "      <td>47082</td>\n",
       "      <td>SIDEWALK   CC</td>\n",
       "      <td>76</td>\n",
       "      <td>POLICE</td>\n",
       "      <td>39.954927</td>\n",
       "      <td>-75.140262</td>\n",
       "      <td>POINT (-75.14026 39.95493)</td>\n",
       "    </tr>\n",
       "    <tr>\n",
       "      <th>4</th>\n",
       "      <td>4588341</td>\n",
       "      <td>01/01/2015 00:02</td>\n",
       "      <td>1509569</td>\n",
       "      <td>SIDEWALK   CC</td>\n",
       "      <td>76</td>\n",
       "      <td>POLICE</td>\n",
       "      <td>39.954927</td>\n",
       "      <td>-75.140262</td>\n",
       "      <td>POINT (-75.14026 39.95493)</td>\n",
       "    </tr>\n",
       "  </tbody>\n",
       "</table>\n",
       "</div>"
      ],
      "text/plain": [
       "   anon_ticket_number    issue_datetime  anon_plate_id        violation_desc  \\\n",
       "0             4674379  01/01/2015 00:00         934383  BLOCKNG MASS TRANSIT   \n",
       "1             4707189  01/01/2015 00:00        1065037  BLOCKNG MASS TRANSIT   \n",
       "2             4584526  01/01/2015 00:01        1262953         SIDEWALK   CC   \n",
       "3             4669046  01/01/2015 00:01          47082         SIDEWALK   CC   \n",
       "4             4588341  01/01/2015 00:02        1509569         SIDEWALK   CC   \n",
       "\n",
       "   fine issuing_agency        lat        lon                    geometry  \n",
       "0   101          SEPTA  39.975789 -75.163471  POINT (-75.16347 39.97579)  \n",
       "1   101          SEPTA  39.975789 -75.163471  POINT (-75.16347 39.97579)  \n",
       "2    76         POLICE  39.954927 -75.140262  POINT (-75.14026 39.95493)  \n",
       "3    76         POLICE  39.954927 -75.140262  POINT (-75.14026 39.95493)  \n",
       "4    76         POLICE  39.954927 -75.140262  POINT (-75.14026 39.95493)  "
      ]
     },
     "execution_count": 12,
     "metadata": {},
     "output_type": "execute_result"
    }
   ],
   "source": [
    "# gpd.GeoDataFrame generates a GeoDataFrame from a pandas DataFrame pd Dataframe parking_df, and lon and lat as the x and y coordinates\n",
    "gdf = gpd.GeoDataFrame(parking_df, geometry=gpd.points_from_xy(parking_df.lon, parking_df.lat), crs=\"EPSG:4326\") #crs is the coordinate reference system \n",
    "gdf.head()"
   ]
  },
  {
   "cell_type": "code",
   "execution_count": 10,
   "id": "relevant-wages",
   "metadata": {},
   "outputs": [],
   "source": [
    "# generate a file containing the geometries of the parking violations for the map\n",
    "gdf.to_file(\"Data/Output/parking_2015.geojson\",  driver='GeoJSON')\n"
   ]
  },
  {
   "cell_type": "code",
   "execution_count": 13,
   "id": "skilled-banana",
   "metadata": {},
   "outputs": [
    {
     "name": "stdout",
     "output_type": "stream",
     "text": [
      "User Guide: https://docs.kepler.gl/docs/keplergl-jupyter\n"
     ]
    }
   ],
   "source": [
    "m = KeplerGl(height=800)\n",
    "m.add_data(data=gdf, name='parking_points')\n"
   ]
  },
  {
   "cell_type": "markdown",
   "id": "drawn-sitting",
   "metadata": {},
   "source": [
    "## Task 5: 3D Hexagon "
   ]
  },
  {
   "cell_type": "code",
   "execution_count": 1,
   "id": "descending-facing",
   "metadata": {},
   "outputs": [],
   "source": [
    "import geopandas as gpd\n",
    "from keplergl import KeplerGl"
   ]
  },
  {
   "cell_type": "code",
   "execution_count": 15,
   "id": "broad-research",
   "metadata": {},
   "outputs": [
    {
     "data": {
      "text/html": [
       "<div>\n",
       "<style scoped>\n",
       "    .dataframe tbody tr th:only-of-type {\n",
       "        vertical-align: middle;\n",
       "    }\n",
       "\n",
       "    .dataframe tbody tr th {\n",
       "        vertical-align: top;\n",
       "    }\n",
       "\n",
       "    .dataframe thead th {\n",
       "        text-align: right;\n",
       "    }\n",
       "</style>\n",
       "<table border=\"1\" class=\"dataframe\">\n",
       "  <thead>\n",
       "    <tr style=\"text-align: right;\">\n",
       "      <th></th>\n",
       "      <th>anon_ticket_number</th>\n",
       "      <th>issue_datetime</th>\n",
       "      <th>anon_plate_id</th>\n",
       "      <th>violation_desc</th>\n",
       "      <th>fine</th>\n",
       "      <th>issuing_agency</th>\n",
       "      <th>lat</th>\n",
       "      <th>lon</th>\n",
       "      <th>geometry</th>\n",
       "    </tr>\n",
       "  </thead>\n",
       "  <tbody>\n",
       "    <tr>\n",
       "      <th>0</th>\n",
       "      <td>4674379</td>\n",
       "      <td>01/01/2015 00:00</td>\n",
       "      <td>934383</td>\n",
       "      <td>BLOCKNG MASS TRANSIT</td>\n",
       "      <td>101</td>\n",
       "      <td>SEPTA</td>\n",
       "      <td>39.975789</td>\n",
       "      <td>-75.163471</td>\n",
       "      <td>POINT (-75.16347 39.97579)</td>\n",
       "    </tr>\n",
       "    <tr>\n",
       "      <th>1</th>\n",
       "      <td>4707189</td>\n",
       "      <td>01/01/2015 00:00</td>\n",
       "      <td>1065037</td>\n",
       "      <td>BLOCKNG MASS TRANSIT</td>\n",
       "      <td>101</td>\n",
       "      <td>SEPTA</td>\n",
       "      <td>39.975789</td>\n",
       "      <td>-75.163471</td>\n",
       "      <td>POINT (-75.16347 39.97579)</td>\n",
       "    </tr>\n",
       "    <tr>\n",
       "      <th>2</th>\n",
       "      <td>4584526</td>\n",
       "      <td>01/01/2015 00:01</td>\n",
       "      <td>1262953</td>\n",
       "      <td>SIDEWALK   CC</td>\n",
       "      <td>76</td>\n",
       "      <td>POLICE</td>\n",
       "      <td>39.954927</td>\n",
       "      <td>-75.140262</td>\n",
       "      <td>POINT (-75.14026 39.95493)</td>\n",
       "    </tr>\n",
       "    <tr>\n",
       "      <th>3</th>\n",
       "      <td>4669046</td>\n",
       "      <td>01/01/2015 00:01</td>\n",
       "      <td>47082</td>\n",
       "      <td>SIDEWALK   CC</td>\n",
       "      <td>76</td>\n",
       "      <td>POLICE</td>\n",
       "      <td>39.954927</td>\n",
       "      <td>-75.140262</td>\n",
       "      <td>POINT (-75.14026 39.95493)</td>\n",
       "    </tr>\n",
       "    <tr>\n",
       "      <th>4</th>\n",
       "      <td>4588341</td>\n",
       "      <td>01/01/2015 00:02</td>\n",
       "      <td>1509569</td>\n",
       "      <td>SIDEWALK   CC</td>\n",
       "      <td>76</td>\n",
       "      <td>POLICE</td>\n",
       "      <td>39.954927</td>\n",
       "      <td>-75.140262</td>\n",
       "      <td>POINT (-75.14026 39.95493)</td>\n",
       "    </tr>\n",
       "  </tbody>\n",
       "</table>\n",
       "</div>"
      ],
      "text/plain": [
       "   anon_ticket_number    issue_datetime  anon_plate_id        violation_desc  \\\n",
       "0             4674379  01/01/2015 00:00         934383  BLOCKNG MASS TRANSIT   \n",
       "1             4707189  01/01/2015 00:00        1065037  BLOCKNG MASS TRANSIT   \n",
       "2             4584526  01/01/2015 00:01        1262953         SIDEWALK   CC   \n",
       "3             4669046  01/01/2015 00:01          47082         SIDEWALK   CC   \n",
       "4             4588341  01/01/2015 00:02        1509569         SIDEWALK   CC   \n",
       "\n",
       "   fine issuing_agency        lat        lon                    geometry  \n",
       "0   101          SEPTA  39.975789 -75.163471  POINT (-75.16347 39.97579)  \n",
       "1   101          SEPTA  39.975789 -75.163471  POINT (-75.16347 39.97579)  \n",
       "2    76         POLICE  39.954927 -75.140262  POINT (-75.14026 39.95493)  \n",
       "3    76         POLICE  39.954927 -75.140262  POINT (-75.14026 39.95493)  \n",
       "4    76         POLICE  39.954927 -75.140262  POINT (-75.14026 39.95493)  "
      ]
     },
     "execution_count": 15,
     "metadata": {},
     "output_type": "execute_result"
    }
   ],
   "source": [
    "gdf = gpd.read_file(\"Data/Output/parking_2015.geojson\")\n",
    "gdf.head()"
   ]
  },
  {
   "cell_type": "code",
   "execution_count": null,
   "id": "light-harvest",
   "metadata": {},
   "outputs": [],
   "source": [
    "m = KeplerGl(height=800)\n",
    "m.add_data(data=gdf, name='3dHexagon')\n",
    "m"
   ]
  },
  {
   "cell_type": "code",
   "execution_count": null,
   "id": "invalid-synthetic",
   "metadata": {},
   "outputs": [],
   "source": []
  },
  {
   "cell_type": "markdown",
   "id": "owned-rwanda",
   "metadata": {},
   "source": [
    "## Task 6: Animation"
   ]
  },
  {
   "cell_type": "code",
   "execution_count": null,
   "id": "committed-millennium",
   "metadata": {},
   "outputs": [],
   "source": [
    "import geopandas as gpd\n",
    "import pandas as pd\n",
    "from keplergl import KeplerGl"
   ]
  },
  {
   "cell_type": "code",
   "execution_count": null,
   "id": "excess-trust",
   "metadata": {},
   "outputs": [],
   "source": [
    "gdf = gpd.read_file(\"data/output/parking_2015.geojson\", parse_dates=True)\n",
    "gdf.head()"
   ]
  },
  {
   "cell_type": "code",
   "execution_count": null,
   "id": "billion-techno",
   "metadata": {},
   "outputs": [],
   "source": [
    "gdf[\"issue_datetime\"] = pd.to_datetime(gdf[\"issue_datetime\"], dayfirst=True)\n"
   ]
  },
  {
   "cell_type": "code",
   "execution_count": null,
   "id": "flexible-tuner",
   "metadata": {},
   "outputs": [],
   "source": [
    "gdf.sample(10)"
   ]
  },
  {
   "cell_type": "code",
   "execution_count": null,
   "id": "contrary-stranger",
   "metadata": {},
   "outputs": [],
   "source": [
    "m = KeplerGl(height=900)\n",
    "m.add_data(data=gdf, name='animation')\n",
    "m"
   ]
  },
  {
   "cell_type": "code",
   "execution_count": null,
   "id": "romantic-amazon",
   "metadata": {},
   "outputs": [],
   "source": []
  },
  {
   "cell_type": "markdown",
   "id": "infrared-provision",
   "metadata": {},
   "source": [
    "## Task 7: Choropleth Map"
   ]
  },
  {
   "cell_type": "code",
   "execution_count": null,
   "id": "cloudy-artwork",
   "metadata": {},
   "outputs": [],
   "source": [
    "import geopandas as gpd\n",
    "from keplergl import KeplerGl"
   ]
  },
  {
   "cell_type": "code",
   "execution_count": null,
   "id": "entire-columbia",
   "metadata": {},
   "outputs": [],
   "source": [
    "neighborhoods = gpd.read_file(\"neighbrhoods.geojson\")\n",
    "neighborhoods.head()"
   ]
  },
  {
   "cell_type": "code",
   "execution_count": null,
   "id": "qualified-description",
   "metadata": {},
   "outputs": [],
   "source": [
    "neighborhoods.crs"
   ]
  },
  {
   "cell_type": "code",
   "execution_count": null,
   "id": "hindu-asbestos",
   "metadata": {},
   "outputs": [],
   "source": [
    "neighborhoods = neighborhoods.to_crs(\"EPSG:4326\")"
   ]
  },
  {
   "cell_type": "code",
   "execution_count": null,
   "id": "naked-sessions",
   "metadata": {},
   "outputs": [],
   "source": [
    "m = KeplerGl(height=900)\n",
    "m.add_data(data=neighborhoods, name='choropleth_map')\n",
    "m"
   ]
  },
  {
   "cell_type": "markdown",
   "id": "plain-canadian",
   "metadata": {},
   "source": [
    "## Task 8: Spatial Join Preprocessing"
   ]
  },
  {
   "cell_type": "code",
   "execution_count": null,
   "id": "magnetic-glance",
   "metadata": {},
   "outputs": [],
   "source": [
    "import pandas as pd\n",
    "import geopandas as gpd\n",
    "from keplergl import KeplerGl"
   ]
  },
  {
   "cell_type": "code",
   "execution_count": null,
   "id": "correct-zimbabwe",
   "metadata": {},
   "outputs": [],
   "source": [
    "gdf = gpd.read_file(\"data/output/parking_2015.geojson\")\n",
    "gdf.head()"
   ]
  },
  {
   "cell_type": "code",
   "execution_count": null,
   "id": "convinced-workstation",
   "metadata": {},
   "outputs": [],
   "source": [
    "neighborhoods = gpd.read_file(\"data/neighbrhoods.geojson\")\n",
    "neighborhoods.head()"
   ]
  },
  {
   "cell_type": "code",
   "execution_count": null,
   "id": "mechanical-virus",
   "metadata": {},
   "outputs": [],
   "source": [
    "gdf.crs == neighborhoods.crs"
   ]
  },
  {
   "cell_type": "code",
   "execution_count": null,
   "id": "verbal-closer",
   "metadata": {},
   "outputs": [],
   "source": [
    "neighborhoods = neighborhoods.to_crs(\"EPSG:4326\")"
   ]
  },
  {
   "cell_type": "code",
   "execution_count": null,
   "id": "social-mistress",
   "metadata": {},
   "outputs": [],
   "source": [
    "gdf.crs == neighborhoods.crs"
   ]
  },
  {
   "cell_type": "code",
   "execution_count": null,
   "id": "express-chapter",
   "metadata": {},
   "outputs": [],
   "source": [
    "location_join = gpd.sjoin(gdf, neighborhoods, op=\"within\")"
   ]
  },
  {
   "cell_type": "code",
   "execution_count": null,
   "id": "romance-client",
   "metadata": {},
   "outputs": [],
   "source": [
    "location_join.head()"
   ]
  },
  {
   "cell_type": "code",
   "execution_count": null,
   "id": "pharmaceutical-guard",
   "metadata": {},
   "outputs": [],
   "source": [
    "def count_numpoints(joined, polygons, merge_on):\n",
    "    grouped = joined.groupby(merge_on).size()\n",
    "    df = grouped.to_frame().reset_index()\n",
    "    df.columns = [merge_on, \"Count\"]\n",
    "    return polygons.merge(df, on=merge_on, how=\"outer\")\n",
    "\n",
    "numpoints_per_neigh = count_numpoints(location_join, neighborhoods, \"NAME\")\n",
    "numpoints_per_neigh.head()"
   ]
  },
  {
   "cell_type": "code",
   "execution_count": null,
   "id": "willing-burton",
   "metadata": {},
   "outputs": [],
   "source": [
    "m = KeplerGl(height=900)\n",
    "m.add_data(data=numpoints_per_neigh, name='choropleth_map')\n",
    "m"
   ]
  },
  {
   "cell_type": "code",
   "execution_count": null,
   "id": "further-biology",
   "metadata": {},
   "outputs": [],
   "source": []
  }
 ],
 "metadata": {
  "kernelspec": {
   "display_name": "Python 3 (ipykernel)",
   "language": "python",
   "name": "python3"
  },
  "language_info": {
   "codemirror_mode": {
    "name": "ipython",
    "version": 3
   },
   "file_extension": ".py",
   "mimetype": "text/x-python",
   "name": "python",
   "nbconvert_exporter": "python",
   "pygments_lexer": "ipython3",
   "version": "3.9.12"
  },
  "vscode": {
   "interpreter": {
    "hash": "916dbcbb3f70747c44a77c7bcd40155683ae19c65e1c03b4aa3499c5328201f1"
   }
  },
  "widgets": {
   "application/vnd.jupyter.widget-state+json": {
    "state": {},
    "version_major": 2,
    "version_minor": 0
   }
  }
 },
 "nbformat": 4,
 "nbformat_minor": 4
}
